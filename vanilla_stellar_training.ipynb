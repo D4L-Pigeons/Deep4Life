{
 "cells": [
  {
   "cell_type": "code",
   "execution_count": 1,
   "metadata": {},
   "outputs": [
    {
     "name": "stderr",
     "output_type": "stream",
     "text": [
      "d:\\dlls-pro\\dlls-pro-venv\\Lib\\site-packages\\torch_geometric\\typing.py:110: UserWarning: An issue occurred while importing 'torch-sparse'. Disabling its usage. Stacktrace: [WinError 127] Nie można odnaleźć określonej procedury\n",
      "  warnings.warn(f\"An issue occurred while importing 'torch-sparse'. \"\n"
     ]
    }
   ],
   "source": [
    "from src.datasets import stellar_data\n",
    "from src.models import vanilla_stellar\n",
    "import torch\n",
    "import argparse"
   ]
  },
  {
   "cell_type": "code",
   "execution_count": 2,
   "metadata": {},
   "outputs": [],
   "source": [
    "torch.manual_seed(42)\n",
    "sample_idx_permutations = []\n",
    "n_folds = 5\n",
    "n_train = 100\n",
    "for i in range(n_folds):\n",
    "    idx_perm = torch.randperm(125).tolist()\n",
    "    sample_idx_permutations.append({\"train\" : idx_perm[:n_train], \"valid\" : idx_perm[n_train:]})"
   ]
  },
  {
   "cell_type": "code",
   "execution_count": 3,
   "metadata": {},
   "outputs": [],
   "source": [
    "k = 0\n",
    "train_dataloader = stellar_data.StellarDataloader(\n",
    "    filename='stellar_graph_dataset_train.pt',\n",
    "    batch_size=512,\n",
    "    shuffle=True,\n",
    "    graphs_idx=sample_idx_permutations[k][\"train\"],\n",
    "    test=False\n",
    ")\n",
    "valid_dataloader = stellar_data.StellarDataloader(\n",
    "    filename='stellar_graph_dataset_train.pt',\n",
    "    batch_size=512,\n",
    "    shuffle=False,\n",
    "    graphs_idx=sample_idx_permutations[k][\"valid\"],\n",
    "    test=False\n",
    ")"
   ]
  },
  {
   "cell_type": "code",
   "execution_count": 4,
   "metadata": {},
   "outputs": [],
   "source": [
    "cfg_reduced = argparse.Namespace(**{\n",
    "    'device': torch.device('cuda' if torch.cuda.is_available() else 'cpu'),\n",
    "    'input_dim': 41,\n",
    "    'hid_dim': 128,\n",
    "    'num_classes': 14,\n",
    "    'lr': 1e-2,\n",
    "})\n",
    "\n",
    "vanilla_stellar_reduced = vanilla_stellar.VanillaStellarReduced(cfg_reduced)"
   ]
  },
  {
   "cell_type": "code",
   "execution_count": 5,
   "metadata": {},
   "outputs": [
    {
     "name": "stderr",
     "output_type": "stream",
     "text": [
      "Training - epoch 0:   1%|          | 1/100 [00:01<02:29,  1.51s/it, Loss=1.55e-5, Accuracy=0]\n",
      "Validation - epoch 0:   4%|▍         | 1/25 [00:00<00:02,  8.51it/s, Loss=2.23, Accuracy=0.436]\n",
      "Training - epoch 1:   1%|          | 1/100 [00:01<02:29,  1.51s/it, Loss=2.74e-5, Accuracy=0]\n",
      "Validation - epoch 1:   4%|▍         | 1/25 [00:00<00:03,  6.22it/s, Loss=1.88, Accuracy=0.548]\n",
      "Training - epoch 2:   1%|          | 1/100 [00:01<02:16,  1.38s/it, Loss=3.76e-5, Accuracy=0]\n",
      "Validation - epoch 2:   4%|▍         | 1/25 [00:00<00:03,  7.86it/s, Loss=1.89, Accuracy=0.548]\n",
      "Training - epoch 3:   1%|          | 1/100 [00:01<02:27,  1.49s/it, Loss=4.81e-5, Accuracy=0]\n",
      "Validation - epoch 3:   4%|▍         | 1/25 [00:00<00:03,  6.90it/s, Loss=1.91, Accuracy=0.548]\n",
      "Training - epoch 4:   1%|          | 1/100 [00:01<02:20,  1.42s/it, Loss=5.88e-5, Accuracy=0]\n",
      "Validation - epoch 4:   4%|▍         | 1/25 [00:00<00:03,  7.86it/s, Loss=1.86, Accuracy=0.548]\n",
      "Training - epoch 5:   1%|          | 1/100 [00:01<02:25,  1.47s/it, Loss=6.92e-5, Accuracy=0]\n",
      "Validation - epoch 5:   4%|▍         | 1/25 [00:00<00:03,  7.81it/s, Loss=1.81, Accuracy=0.548]\n",
      "Training - epoch 6:   1%|          | 1/100 [00:01<02:30,  1.52s/it, Loss=7.93e-5, Accuracy=0]\n",
      "Validation - epoch 6:   4%|▍         | 1/25 [00:00<00:04,  5.97it/s, Loss=1.79, Accuracy=0.548]\n",
      "Training - epoch 7:   1%|          | 1/100 [00:01<02:24,  1.46s/it, Loss=8.92e-5, Accuracy=0]\n",
      "Validation - epoch 7:   4%|▍         | 1/25 [00:00<00:03,  7.21it/s, Loss=1.82, Accuracy=0.548]\n",
      "Training - epoch 8:   1%|          | 1/100 [00:01<02:29,  1.51s/it, Loss=9.91e-5, Accuracy=0]\n",
      "Validation - epoch 8:   4%|▍         | 1/25 [00:00<00:03,  7.15it/s, Loss=1.84, Accuracy=0.549]\n",
      "Training - epoch 9:   1%|          | 1/100 [00:01<02:28,  1.50s/it, Loss=0.000109, Accuracy=0]\n",
      "Validation - epoch 9:   4%|▍         | 1/25 [00:00<00:03,  6.81it/s, Loss=1.83, Accuracy=0.549]\n",
      "Training - epoch 10:   1%|          | 1/100 [00:01<02:30,  1.52s/it, Loss=0.000119, Accuracy=0]\n",
      "Validation - epoch 10:   4%|▍         | 1/25 [00:00<00:03,  6.11it/s, Loss=1.8, Accuracy=0.549]\n",
      "Training - epoch 11:   1%|          | 1/100 [00:01<02:38,  1.60s/it, Loss=0.000129, Accuracy=0]\n",
      "Validation - epoch 11:   4%|▍         | 1/25 [00:00<00:03,  7.40it/s, Loss=1.76, Accuracy=0.549]\n",
      "Training - epoch 12:   1%|          | 1/100 [00:01<02:49,  1.71s/it, Loss=0.000138, Accuracy=0]\n",
      "Validation - epoch 12:   4%|▍         | 1/25 [00:00<00:03,  6.47it/s, Loss=1.72, Accuracy=0.548]\n",
      "Training - epoch 13:   1%|          | 1/100 [00:01<02:37,  1.60s/it, Loss=0.000148, Accuracy=0]\n",
      "Validation - epoch 13:   4%|▍         | 1/25 [00:00<00:03,  6.70it/s, Loss=1.69, Accuracy=0.548]\n",
      "Training - epoch 14:   1%|          | 1/100 [00:01<02:29,  1.51s/it, Loss=0.000157, Accuracy=0]\n",
      "Validation - epoch 14:   4%|▍         | 1/25 [00:00<00:03,  7.78it/s, Loss=1.68, Accuracy=0.548]\n",
      "Training - epoch 15:   1%|          | 1/100 [00:01<02:23,  1.45s/it, Loss=0.000166, Accuracy=0]\n",
      "Validation - epoch 15:   4%|▍         | 1/25 [00:00<00:03,  7.42it/s, Loss=1.68, Accuracy=0.549]\n",
      "Training - epoch 16:   1%|          | 1/100 [00:01<02:21,  1.43s/it, Loss=0.000175, Accuracy=0]\n",
      "Validation - epoch 16:   4%|▍         | 1/25 [00:00<00:03,  7.70it/s, Loss=1.67, Accuracy=0.549]\n",
      "Training - epoch 17:   1%|          | 1/100 [00:01<02:15,  1.37s/it, Loss=0.000185, Accuracy=0]\n",
      "Validation - epoch 17:   4%|▍         | 1/25 [00:00<00:03,  7.72it/s, Loss=1.67, Accuracy=0.549]\n",
      "Training - epoch 18:   1%|          | 1/100 [00:01<02:33,  1.55s/it, Loss=0.000194, Accuracy=0]\n",
      "Validation - epoch 18:   4%|▍         | 1/25 [00:00<00:03,  7.20it/s, Loss=1.66, Accuracy=0.549]\n",
      "Training - epoch 19:   1%|          | 1/100 [00:01<02:21,  1.43s/it, Loss=0.000203, Accuracy=0]\n",
      "Validation - epoch 19:   4%|▍         | 1/25 [00:00<00:02,  8.40it/s, Loss=1.65, Accuracy=0.55]\n"
     ]
    }
   ],
   "source": [
    "vanilla_stellar_reduced.train(\n",
    "    train_loader=train_dataloader,\n",
    "    valid_loader=valid_dataloader,\n",
    "    epochs=20)"
   ]
  }
 ],
 "metadata": {
  "kernelspec": {
   "display_name": "dlls-pro-venv",
   "language": "python",
   "name": "python3"
  },
  "language_info": {
   "codemirror_mode": {
    "name": "ipython",
    "version": 3
   },
   "file_extension": ".py",
   "mimetype": "text/x-python",
   "name": "python",
   "nbconvert_exporter": "python",
   "pygments_lexer": "ipython3",
   "version": "3.11.9"
  }
 },
 "nbformat": 4,
 "nbformat_minor": 2
}
