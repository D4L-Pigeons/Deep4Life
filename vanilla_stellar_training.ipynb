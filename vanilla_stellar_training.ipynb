{
 "cells": [
  {
   "cell_type": "code",
   "execution_count": 6,
   "metadata": {},
   "outputs": [],
   "source": [
    "from src.datasets import stellar_data\n",
    "from src.models import vanilla_stellar\n",
    "import torch\n",
    "import numpy as np\n",
    "import argparse"
   ]
  },
  {
   "cell_type": "code",
   "execution_count": 7,
   "metadata": {},
   "outputs": [],
   "source": [
    "torch.manual_seed(42)\n",
    "sample_idx_permutations = []\n",
    "n_folds = 5\n",
    "n_train = 100\n",
    "for i in range(n_folds):\n",
    "    idx_perm = torch.randperm(125).tolist()\n",
    "    sample_idx_permutations.append({\"train\" : idx_perm[:n_train], \"valid\" : idx_perm[n_train:]})"
   ]
  },
  {
   "cell_type": "code",
   "execution_count": 12,
   "metadata": {},
   "outputs": [],
   "source": [
    "cfg_reduced = argparse.Namespace(**{\n",
    "    'device': torch.device('cuda' if torch.cuda.is_available() else 'cpu'),\n",
    "    'input_dim': 41,\n",
    "    'hid_dim': 512, # originally 128\n",
    "    'num_classes': 14,\n",
    "    'lr': 1e-3,\n",
    "})"
   ]
  },
  {
   "cell_type": "code",
   "execution_count": 13,
   "metadata": {},
   "outputs": [],
   "source": [
    "n_epochs = 20"
   ]
  },
  {
   "cell_type": "code",
   "execution_count": 14,
   "metadata": {},
   "outputs": [
    {
     "name": "stdout",
     "output_type": "stream",
     "text": [
      "Fold 0 of 5\n"
     ]
    },
    {
     "name": "stderr",
     "output_type": "stream",
     "text": [
      "Training - epoch 0: 100%|██████████| 1/1 [00:12<00:00, 12.18s/it, Loss=2.42, Accuracy=0.314]\n",
      "Validation - epoch 0: 100%|██████████| 1/1 [00:01<00:00,  1.03s/it, Loss=2.67, Accuracy=0.548]\n",
      "Training - epoch 1: 100%|██████████| 1/1 [00:08<00:00,  8.58s/it, Loss=2.93, Accuracy=0.505]\n",
      "Validation - epoch 1: 100%|██████████| 1/1 [00:00<00:00,  1.37it/s, Loss=2.41, Accuracy=0.548]\n",
      "Training - epoch 2: 100%|██████████| 1/1 [00:08<00:00,  8.09s/it, Loss=2.63, Accuracy=0.505]\n",
      "Validation - epoch 2: 100%|██████████| 1/1 [00:00<00:00,  1.41it/s, Loss=1.92, Accuracy=0.548]\n",
      "Training - epoch 3: 100%|██████████| 1/1 [00:09<00:00,  9.19s/it, Loss=2.07, Accuracy=0.505]\n",
      "Validation - epoch 3: 100%|██████████| 1/1 [00:00<00:00,  1.36it/s, Loss=1.87, Accuracy=0.55]\n",
      "Training - epoch 4: 100%|██████████| 1/1 [00:08<00:00,  8.32s/it, Loss=1.95, Accuracy=0.506]\n",
      "Validation - epoch 4: 100%|██████████| 1/1 [00:00<00:00,  1.31it/s, Loss=2.04, Accuracy=0.383]\n",
      "Training - epoch 5: 100%|██████████| 1/1 [00:08<00:00,  8.23s/it, Loss=2.07, Accuracy=0.423]\n",
      "Validation - epoch 5: 100%|██████████| 1/1 [00:00<00:00,  1.39it/s, Loss=2.03, Accuracy=0.412]\n",
      "Training - epoch 6: 100%|██████████| 1/1 [00:08<00:00,  8.54s/it, Loss=2.05, Accuracy=0.432]\n",
      "Validation - epoch 6: 100%|██████████| 1/1 [00:00<00:00,  1.35it/s, Loss=1.92, Accuracy=0.564]\n",
      "Training - epoch 7: 100%|██████████| 1/1 [00:08<00:00,  8.31s/it, Loss=1.95, Accuracy=0.516]\n",
      "Validation - epoch 7: 100%|██████████| 1/1 [00:00<00:00,  1.42it/s, Loss=1.81, Accuracy=0.551]\n",
      "Training - epoch 8: 100%|██████████| 1/1 [00:07<00:00,  7.96s/it, Loss=1.86, Accuracy=0.506]\n",
      "Validation - epoch 8: 100%|██████████| 1/1 [00:00<00:00,  1.36it/s, Loss=1.74, Accuracy=0.549]\n",
      "Training - epoch 9: 100%|██████████| 1/1 [00:08<00:00,  8.37s/it, Loss=1.81, Accuracy=0.505]\n",
      "Validation - epoch 9: 100%|██████████| 1/1 [00:00<00:00,  1.29it/s, Loss=1.71, Accuracy=0.549]\n",
      "Training - epoch 10: 100%|██████████| 1/1 [00:08<00:00,  8.13s/it, Loss=1.8, Accuracy=0.505]\n",
      "Validation - epoch 10: 100%|██████████| 1/1 [00:00<00:00,  1.53it/s, Loss=1.7, Accuracy=0.549]\n",
      "Training - epoch 11: 100%|██████████| 1/1 [00:09<00:00,  9.19s/it, Loss=1.81, Accuracy=0.505]\n",
      "Validation - epoch 11: 100%|██████████| 1/1 [00:00<00:00,  1.48it/s, Loss=1.71, Accuracy=0.549]\n",
      "Training - epoch 12: 100%|██████████| 1/1 [00:08<00:00,  8.24s/it, Loss=1.83, Accuracy=0.505]\n",
      "Validation - epoch 12: 100%|██████████| 1/1 [00:00<00:00,  1.49it/s, Loss=1.7, Accuracy=0.549]\n",
      "Training - epoch 13: 100%|██████████| 1/1 [00:08<00:00,  8.33s/it, Loss=1.83, Accuracy=0.505]\n",
      "Validation - epoch 13: 100%|██████████| 1/1 [00:00<00:00,  1.47it/s, Loss=1.69, Accuracy=0.549]\n",
      "Training - epoch 14: 100%|██████████| 1/1 [00:08<00:00,  8.55s/it, Loss=1.83, Accuracy=0.505]\n",
      "Validation - epoch 14: 100%|██████████| 1/1 [00:00<00:00,  1.55it/s, Loss=1.68, Accuracy=0.549]\n",
      "Training - epoch 15: 100%|██████████| 1/1 [00:08<00:00,  8.64s/it, Loss=1.81, Accuracy=0.505]\n",
      "Validation - epoch 15: 100%|██████████| 1/1 [00:00<00:00,  1.34it/s, Loss=1.65, Accuracy=0.55]\n",
      "Training - epoch 16: 100%|██████████| 1/1 [00:08<00:00,  8.46s/it, Loss=1.78, Accuracy=0.506]\n",
      "Validation - epoch 16: 100%|██████████| 1/1 [00:00<00:00,  1.46it/s, Loss=1.63, Accuracy=0.551]\n",
      "Training - epoch 17: 100%|██████████| 1/1 [00:07<00:00,  7.92s/it, Loss=1.75, Accuracy=0.506]\n",
      "Validation - epoch 17: 100%|██████████| 1/1 [00:00<00:00,  1.32it/s, Loss=1.62, Accuracy=0.553]\n",
      "Training - epoch 18: 100%|██████████| 1/1 [00:08<00:00,  8.38s/it, Loss=1.73, Accuracy=0.507]\n",
      "Validation - epoch 18: 100%|██████████| 1/1 [00:00<00:00,  1.38it/s, Loss=1.61, Accuracy=0.557]\n",
      "Training - epoch 19: 100%|██████████| 1/1 [00:09<00:00,  9.03s/it, Loss=1.71, Accuracy=0.509]\n",
      "Validation - epoch 19: 100%|██████████| 1/1 [00:00<00:00,  1.29it/s, Loss=1.61, Accuracy=0.564]\n"
     ]
    },
    {
     "name": "stdout",
     "output_type": "stream",
     "text": [
      "Fold 1 of 5\n"
     ]
    },
    {
     "name": "stderr",
     "output_type": "stream",
     "text": [
      "Training - epoch 0: 100%|██████████| 1/1 [00:09<00:00,  9.74s/it, Loss=2.93, Accuracy=0.0126]\n",
      "Validation - epoch 0: 100%|██████████| 1/1 [00:01<00:00,  1.01s/it, Loss=2.58, Accuracy=0.482]\n",
      "Training - epoch 1: 100%|██████████| 1/1 [00:09<00:00,  9.25s/it, Loss=2.39, Accuracy=0.521]\n",
      "Validation - epoch 1: 100%|██████████| 1/1 [00:00<00:00,  1.11it/s, Loss=2.43, Accuracy=0.482]\n",
      "Training - epoch 2: 100%|██████████| 1/1 [00:09<00:00,  9.31s/it, Loss=2.26, Accuracy=0.521]\n",
      "Validation - epoch 2: 100%|██████████| 1/1 [00:00<00:00,  1.21it/s, Loss=2.02, Accuracy=0.482]\n",
      "Training - epoch 3: 100%|██████████| 1/1 [00:08<00:00,  8.14s/it, Loss=1.9, Accuracy=0.521]\n",
      "Validation - epoch 3: 100%|██████████| 1/1 [00:00<00:00,  1.26it/s, Loss=1.91, Accuracy=0.482]\n",
      "Training - epoch 4: 100%|██████████| 1/1 [00:07<00:00,  7.99s/it, Loss=1.83, Accuracy=0.522]\n",
      "Validation - epoch 4: 100%|██████████| 1/1 [00:00<00:00,  1.21it/s, Loss=1.97, Accuracy=0.484]\n",
      "Training - epoch 5: 100%|██████████| 1/1 [00:09<00:00,  9.40s/it, Loss=1.92, Accuracy=0.526]\n",
      "Validation - epoch 5: 100%|██████████| 1/1 [00:00<00:00,  1.30it/s, Loss=1.97, Accuracy=0.484]\n",
      "Training - epoch 6: 100%|██████████| 1/1 [00:08<00:00,  8.14s/it, Loss=1.92, Accuracy=0.527]\n",
      "Validation - epoch 6: 100%|██████████| 1/1 [00:00<00:00,  1.22it/s, Loss=1.92, Accuracy=0.483]\n",
      "Training - epoch 7: 100%|██████████| 1/1 [00:08<00:00,  8.82s/it, Loss=1.86, Accuracy=0.523]\n",
      "Validation - epoch 7: 100%|██████████| 1/1 [00:00<00:00,  1.12it/s, Loss=1.87, Accuracy=0.483]\n",
      "Training - epoch 8: 100%|██████████| 1/1 [00:08<00:00,  8.87s/it, Loss=1.8, Accuracy=0.522]\n",
      "Validation - epoch 8: 100%|██████████| 1/1 [00:00<00:00,  1.17it/s, Loss=1.85, Accuracy=0.483]\n",
      "Training - epoch 9: 100%|██████████| 1/1 [00:09<00:00,  9.29s/it, Loss=1.77, Accuracy=0.522]\n",
      "Validation - epoch 9: 100%|██████████| 1/1 [00:00<00:00,  1.10it/s, Loss=1.86, Accuracy=0.483]\n",
      "Training - epoch 10: 100%|██████████| 1/1 [00:08<00:00,  8.63s/it, Loss=1.76, Accuracy=0.522]\n",
      "Validation - epoch 10: 100%|██████████| 1/1 [00:01<00:00,  1.11s/it, Loss=1.88, Accuracy=0.483]\n",
      "Training - epoch 11: 100%|██████████| 1/1 [00:08<00:00,  8.99s/it, Loss=1.77, Accuracy=0.522]\n",
      "Validation - epoch 11: 100%|██████████| 1/1 [00:00<00:00,  1.18it/s, Loss=1.9, Accuracy=0.483]\n",
      "Training - epoch 12: 100%|██████████| 1/1 [00:08<00:00,  8.43s/it, Loss=1.78, Accuracy=0.522]\n",
      "Validation - epoch 12: 100%|██████████| 1/1 [00:00<00:00,  1.12it/s, Loss=1.9, Accuracy=0.483]\n",
      "Training - epoch 13: 100%|██████████| 1/1 [00:08<00:00,  8.33s/it, Loss=1.78, Accuracy=0.522]\n",
      "Validation - epoch 13: 100%|██████████| 1/1 [00:00<00:00,  1.13it/s, Loss=1.88, Accuracy=0.483]\n",
      "Training - epoch 14: 100%|██████████| 1/1 [00:08<00:00,  8.58s/it, Loss=1.76, Accuracy=0.522]\n",
      "Validation - epoch 14: 100%|██████████| 1/1 [00:00<00:00,  1.21it/s, Loss=1.85, Accuracy=0.483]\n",
      "Training - epoch 15: 100%|██████████| 1/1 [00:08<00:00,  8.60s/it, Loss=1.74, Accuracy=0.523]\n",
      "Validation - epoch 15: 100%|██████████| 1/1 [00:00<00:00,  1.12it/s, Loss=1.82, Accuracy=0.483]\n",
      "Training - epoch 16: 100%|██████████| 1/1 [00:08<00:00,  8.56s/it, Loss=1.71, Accuracy=0.523]\n",
      "Validation - epoch 16: 100%|██████████| 1/1 [00:00<00:00,  1.14it/s, Loss=1.79, Accuracy=0.483]\n",
      "Training - epoch 17: 100%|██████████| 1/1 [00:09<00:00,  9.02s/it, Loss=1.69, Accuracy=0.525]\n",
      "Validation - epoch 17: 100%|██████████| 1/1 [00:01<00:00,  1.01s/it, Loss=1.77, Accuracy=0.485]\n",
      "Training - epoch 18: 100%|██████████| 1/1 [00:09<00:00,  9.13s/it, Loss=1.67, Accuracy=0.527]\n",
      "Validation - epoch 18: 100%|██████████| 1/1 [00:00<00:00,  1.25it/s, Loss=1.76, Accuracy=0.488]\n",
      "Training - epoch 19: 100%|██████████| 1/1 [00:08<00:00,  8.92s/it, Loss=1.67, Accuracy=0.531]\n",
      "Validation - epoch 19: 100%|██████████| 1/1 [00:00<00:00,  1.15it/s, Loss=1.76, Accuracy=0.492]\n"
     ]
    },
    {
     "name": "stdout",
     "output_type": "stream",
     "text": [
      "Fold 2 of 5\n"
     ]
    },
    {
     "name": "stderr",
     "output_type": "stream",
     "text": [
      "Training - epoch 0: 100%|██████████| 1/1 [00:09<00:00,  9.82s/it, Loss=2.63, Accuracy=0.0278]\n",
      "Validation - epoch 0: 100%|██████████| 1/1 [00:00<00:00,  1.34it/s, Loss=1.96, Accuracy=0.633]\n",
      "Training - epoch 1: 100%|██████████| 1/1 [00:09<00:00,  9.71s/it, Loss=2.74, Accuracy=0.482]\n",
      "Validation - epoch 1: 100%|██████████| 1/1 [00:00<00:00,  1.16it/s, Loss=1.73, Accuracy=0.633]\n",
      "Training - epoch 2: 100%|██████████| 1/1 [00:09<00:00,  9.60s/it, Loss=2.41, Accuracy=0.482]\n",
      "Validation - epoch 2: 100%|██████████| 1/1 [00:00<00:00,  1.07it/s, Loss=1.54, Accuracy=0.633]\n",
      "Training - epoch 3: 100%|██████████| 1/1 [00:08<00:00,  8.94s/it, Loss=2.01, Accuracy=0.482]\n",
      "Validation - epoch 3: 100%|██████████| 1/1 [00:00<00:00,  1.33it/s, Loss=1.77, Accuracy=0.634]\n",
      "Training - epoch 4: 100%|██████████| 1/1 [00:08<00:00,  8.35s/it, Loss=2.07, Accuracy=0.484]\n",
      "Validation - epoch 4: 100%|██████████| 1/1 [00:00<00:00,  1.18it/s, Loss=1.91, Accuracy=0.655]\n",
      "Training - epoch 5: 100%|██████████| 1/1 [00:08<00:00,  8.63s/it, Loss=2.14, Accuracy=0.525]\n",
      "Validation - epoch 5: 100%|██████████| 1/1 [00:00<00:00,  1.38it/s, Loss=1.85, Accuracy=0.641]\n",
      "Training - epoch 6: 100%|██████████| 1/1 [00:08<00:00,  8.12s/it, Loss=2.07, Accuracy=0.493]\n",
      "Validation - epoch 6: 100%|██████████| 1/1 [00:00<00:00,  1.36it/s, Loss=1.71, Accuracy=0.634]\n",
      "Training - epoch 7: 100%|██████████| 1/1 [00:08<00:00,  8.95s/it, Loss=1.96, Accuracy=0.484]\n",
      "Validation - epoch 7: 100%|██████████| 1/1 [00:00<00:00,  1.22it/s, Loss=1.58, Accuracy=0.633]\n",
      "Training - epoch 8: 100%|██████████| 1/1 [00:08<00:00,  8.97s/it, Loss=1.88, Accuracy=0.483]\n",
      "Validation - epoch 8: 100%|██████████| 1/1 [00:00<00:00,  1.23it/s, Loss=1.51, Accuracy=0.633]\n",
      "Training - epoch 9: 100%|██████████| 1/1 [00:08<00:00,  8.66s/it, Loss=1.86, Accuracy=0.482]\n",
      "Validation - epoch 9: 100%|██████████| 1/1 [00:00<00:00,  1.21it/s, Loss=1.49, Accuracy=0.633]\n",
      "Training - epoch 10: 100%|██████████| 1/1 [00:08<00:00,  8.92s/it, Loss=1.87, Accuracy=0.482]\n",
      "Validation - epoch 10: 100%|██████████| 1/1 [00:00<00:00,  1.27it/s, Loss=1.48, Accuracy=0.633]\n",
      "Training - epoch 11: 100%|██████████| 1/1 [00:08<00:00,  8.94s/it, Loss=1.89, Accuracy=0.482]\n",
      "Validation - epoch 11: 100%|██████████| 1/1 [00:00<00:00,  1.05it/s, Loss=1.49, Accuracy=0.633]\n",
      "Training - epoch 12: 100%|██████████| 1/1 [00:08<00:00,  8.58s/it, Loss=1.9, Accuracy=0.482]\n",
      "Validation - epoch 12: 100%|██████████| 1/1 [00:00<00:00,  1.32it/s, Loss=1.49, Accuracy=0.633]\n",
      "Training - epoch 13: 100%|██████████| 1/1 [00:08<00:00,  8.33s/it, Loss=1.89, Accuracy=0.482]\n",
      "Validation - epoch 13: 100%|██████████| 1/1 [00:00<00:00,  1.36it/s, Loss=1.48, Accuracy=0.633]\n",
      "Training - epoch 14: 100%|██████████| 1/1 [00:08<00:00,  8.04s/it, Loss=1.88, Accuracy=0.483]\n",
      "Validation - epoch 14: 100%|██████████| 1/1 [00:00<00:00,  1.20it/s, Loss=1.48, Accuracy=0.634]\n",
      "Training - epoch 15: 100%|██████████| 1/1 [00:08<00:00,  8.20s/it, Loss=1.86, Accuracy=0.483]\n",
      "Validation - epoch 15: 100%|██████████| 1/1 [00:00<00:00,  1.38it/s, Loss=1.48, Accuracy=0.634]\n",
      "Training - epoch 16: 100%|██████████| 1/1 [00:08<00:00,  8.28s/it, Loss=1.84, Accuracy=0.483]\n",
      "Validation - epoch 16: 100%|██████████| 1/1 [00:00<00:00,  1.32it/s, Loss=1.49, Accuracy=0.634]\n",
      "Training - epoch 17: 100%|██████████| 1/1 [00:07<00:00,  7.93s/it, Loss=1.82, Accuracy=0.484]\n",
      "Validation - epoch 17: 100%|██████████| 1/1 [00:00<00:00,  1.26it/s, Loss=1.49, Accuracy=0.635]\n",
      "Training - epoch 18: 100%|██████████| 1/1 [00:08<00:00,  8.03s/it, Loss=1.81, Accuracy=0.485]\n",
      "Validation - epoch 18: 100%|██████████| 1/1 [00:00<00:00,  1.27it/s, Loss=1.49, Accuracy=0.636]\n",
      "Training - epoch 19: 100%|██████████| 1/1 [00:08<00:00,  8.22s/it, Loss=1.8, Accuracy=0.488]\n",
      "Validation - epoch 19: 100%|██████████| 1/1 [00:00<00:00,  1.38it/s, Loss=1.49, Accuracy=0.638]\n"
     ]
    },
    {
     "name": "stdout",
     "output_type": "stream",
     "text": [
      "Fold 3 of 5\n"
     ]
    },
    {
     "name": "stderr",
     "output_type": "stream",
     "text": [
      "Training - epoch 0: 100%|██████████| 1/1 [00:07<00:00,  7.87s/it, Loss=2.35, Accuracy=0.525]\n",
      "Validation - epoch 0: 100%|██████████| 1/1 [00:00<00:00,  1.39it/s, Loss=3.8, Accuracy=0.366]\n",
      "Training - epoch 1: 100%|██████████| 1/1 [00:08<00:00,  8.07s/it, Loss=2.67, Accuracy=0.551]\n",
      "Validation - epoch 1: 100%|██████████| 1/1 [00:00<00:00,  1.25it/s, Loss=3.56, Accuracy=0.366]\n",
      "Training - epoch 2: 100%|██████████| 1/1 [00:08<00:00,  8.94s/it, Loss=2.48, Accuracy=0.551]\n",
      "Validation - epoch 2: 100%|██████████| 1/1 [00:00<00:00,  1.06it/s, Loss=2.88, Accuracy=0.366]\n",
      "Training - epoch 3: 100%|██████████| 1/1 [00:09<00:00,  9.59s/it, Loss=2.01, Accuracy=0.551]\n",
      "Validation - epoch 3: 100%|██████████| 1/1 [00:00<00:00,  1.27it/s, Loss=2.43, Accuracy=0.366]\n",
      "Training - epoch 4: 100%|██████████| 1/1 [00:08<00:00,  8.30s/it, Loss=1.79, Accuracy=0.551]\n",
      "Validation - epoch 4: 100%|██████████| 1/1 [00:00<00:00,  1.12it/s, Loss=2.37, Accuracy=0.371]\n",
      "Training - epoch 5: 100%|██████████| 1/1 [00:08<00:00,  8.32s/it, Loss=1.9, Accuracy=0.555]\n",
      "Validation - epoch 5: 100%|██████████| 1/1 [00:00<00:00,  1.28it/s, Loss=2.34, Accuracy=0.396]\n",
      "Training - epoch 6: 100%|██████████| 1/1 [00:08<00:00,  8.70s/it, Loss=1.94, Accuracy=0.569]\n",
      "Validation - epoch 6: 100%|██████████| 1/1 [00:00<00:00,  1.24it/s, Loss=2.27, Accuracy=0.374]\n",
      "Training - epoch 7: 100%|██████████| 1/1 [00:09<00:00,  9.01s/it, Loss=1.88, Accuracy=0.557]\n",
      "Validation - epoch 7: 100%|██████████| 1/1 [00:00<00:00,  1.16it/s, Loss=2.2, Accuracy=0.367]\n",
      "Training - epoch 8: 100%|██████████| 1/1 [00:09<00:00,  9.28s/it, Loss=1.78, Accuracy=0.553]\n",
      "Validation - epoch 8: 100%|██████████| 1/1 [00:00<00:00,  1.15it/s, Loss=2.18, Accuracy=0.366]\n",
      "Training - epoch 9: 100%|██████████| 1/1 [00:09<00:00,  9.38s/it, Loss=1.71, Accuracy=0.552]\n",
      "Validation - epoch 9: 100%|██████████| 1/1 [00:00<00:00,  1.14it/s, Loss=2.19, Accuracy=0.366]\n",
      "Training - epoch 10: 100%|██████████| 1/1 [00:09<00:00,  9.78s/it, Loss=1.68, Accuracy=0.551]\n",
      "Validation - epoch 10: 100%|██████████| 1/1 [00:00<00:00,  1.12it/s, Loss=2.24, Accuracy=0.366]\n",
      "Training - epoch 11: 100%|██████████| 1/1 [00:08<00:00,  8.62s/it, Loss=1.68, Accuracy=0.551]\n",
      "Validation - epoch 11: 100%|██████████| 1/1 [00:00<00:00,  1.07it/s, Loss=2.28, Accuracy=0.366]\n",
      "Training - epoch 12: 100%|██████████| 1/1 [00:08<00:00,  8.60s/it, Loss=1.7, Accuracy=0.551]\n",
      "Validation - epoch 12: 100%|██████████| 1/1 [00:00<00:00,  1.35it/s, Loss=2.3, Accuracy=0.366]\n",
      "Training - epoch 13: 100%|██████████| 1/1 [00:08<00:00,  8.24s/it, Loss=1.71, Accuracy=0.551]\n",
      "Validation - epoch 13: 100%|██████████| 1/1 [00:00<00:00,  1.15it/s, Loss=2.29, Accuracy=0.366]\n",
      "Training - epoch 14: 100%|██████████| 1/1 [00:08<00:00,  8.84s/it, Loss=1.71, Accuracy=0.551]\n",
      "Validation - epoch 14: 100%|██████████| 1/1 [00:00<00:00,  1.21it/s, Loss=2.26, Accuracy=0.366]\n",
      "Training - epoch 15: 100%|██████████| 1/1 [00:08<00:00,  8.57s/it, Loss=1.69, Accuracy=0.552]\n",
      "Validation - epoch 15: 100%|██████████| 1/1 [00:00<00:00,  1.40it/s, Loss=2.21, Accuracy=0.367]\n",
      "Training - epoch 16: 100%|██████████| 1/1 [00:08<00:00,  8.51s/it, Loss=1.67, Accuracy=0.552]\n",
      "Validation - epoch 16: 100%|██████████| 1/1 [00:00<00:00,  1.27it/s, Loss=2.16, Accuracy=0.368]\n",
      "Training - epoch 17: 100%|██████████| 1/1 [00:08<00:00,  8.61s/it, Loss=1.65, Accuracy=0.553]\n",
      "Validation - epoch 17: 100%|██████████| 1/1 [00:00<00:00,  1.25it/s, Loss=2.11, Accuracy=0.369]\n",
      "Training - epoch 18: 100%|██████████| 1/1 [00:08<00:00,  8.31s/it, Loss=1.63, Accuracy=0.554]\n",
      "Validation - epoch 18: 100%|██████████| 1/1 [00:00<00:00,  1.30it/s, Loss=2.06, Accuracy=0.371]\n",
      "Training - epoch 19: 100%|██████████| 1/1 [00:08<00:00,  8.30s/it, Loss=1.61, Accuracy=0.555]\n",
      "Validation - epoch 19: 100%|██████████| 1/1 [00:00<00:00,  1.26it/s, Loss=2.03, Accuracy=0.375]\n"
     ]
    },
    {
     "name": "stdout",
     "output_type": "stream",
     "text": [
      "Fold 4 of 5\n"
     ]
    },
    {
     "name": "stderr",
     "output_type": "stream",
     "text": [
      "Training - epoch 0: 100%|██████████| 1/1 [00:08<00:00,  8.58s/it, Loss=2.63, Accuracy=0.051]\n",
      "Validation - epoch 0: 100%|██████████| 1/1 [00:00<00:00,  1.16it/s, Loss=2.5, Accuracy=0.54]\n",
      "Training - epoch 1: 100%|██████████| 1/1 [00:08<00:00,  8.69s/it, Loss=2.68, Accuracy=0.507]\n",
      "Validation - epoch 1: 100%|██████████| 1/1 [00:00<00:00,  1.32it/s, Loss=2.21, Accuracy=0.54]\n",
      "Training - epoch 2: 100%|██████████| 1/1 [00:09<00:00,  9.05s/it, Loss=2.32, Accuracy=0.507]\n",
      "Validation - epoch 2: 100%|██████████| 1/1 [00:00<00:00,  1.24it/s, Loss=1.91, Accuracy=0.54]\n",
      "Training - epoch 3: 100%|██████████| 1/1 [00:08<00:00,  8.43s/it, Loss=1.93, Accuracy=0.507]\n",
      "Validation - epoch 3: 100%|██████████| 1/1 [00:00<00:00,  1.34it/s, Loss=2.08, Accuracy=0.553]\n",
      "Training - epoch 4: 100%|██████████| 1/1 [00:08<00:00,  8.84s/it, Loss=2.04, Accuracy=0.518]\n",
      "Validation - epoch 4: 100%|██████████| 1/1 [00:00<00:00,  1.44it/s, Loss=2.13, Accuracy=0.488]\n",
      "Training - epoch 5: 100%|██████████| 1/1 [00:08<00:00,  8.63s/it, Loss=2.07, Accuracy=0.481]\n",
      "Validation - epoch 5: 100%|██████████| 1/1 [00:00<00:00,  1.37it/s, Loss=2.01, Accuracy=0.546]\n",
      "Training - epoch 6: 100%|██████████| 1/1 [00:09<00:00,  9.35s/it, Loss=1.96, Accuracy=0.513]\n",
      "Validation - epoch 6: 100%|██████████| 1/1 [00:00<00:00,  1.36it/s, Loss=1.87, Accuracy=0.541]\n",
      "Training - epoch 7: 100%|██████████| 1/1 [00:09<00:00,  9.26s/it, Loss=1.85, Accuracy=0.507]\n",
      "Validation - epoch 7: 100%|██████████| 1/1 [00:00<00:00,  1.34it/s, Loss=1.79, Accuracy=0.54]\n",
      "Training - epoch 8: 100%|██████████| 1/1 [00:09<00:00,  9.51s/it, Loss=1.8, Accuracy=0.507]\n",
      "Validation - epoch 8: 100%|██████████| 1/1 [00:00<00:00,  1.28it/s, Loss=1.77, Accuracy=0.54]\n",
      "Training - epoch 9: 100%|██████████| 1/1 [00:09<00:00,  9.47s/it, Loss=1.8, Accuracy=0.507]\n",
      "Validation - epoch 9: 100%|██████████| 1/1 [00:00<00:00,  1.34it/s, Loss=1.77, Accuracy=0.54]\n",
      "Training - epoch 10: 100%|██████████| 1/1 [00:09<00:00,  9.17s/it, Loss=1.82, Accuracy=0.507]\n",
      "Validation - epoch 10: 100%|██████████| 1/1 [00:00<00:00,  1.40it/s, Loss=1.77, Accuracy=0.54]\n",
      "Training - epoch 11: 100%|██████████| 1/1 [00:08<00:00,  8.48s/it, Loss=1.83, Accuracy=0.507]\n",
      "Validation - epoch 11: 100%|██████████| 1/1 [00:00<00:00,  1.34it/s, Loss=1.76, Accuracy=0.54]\n",
      "Training - epoch 12: 100%|██████████| 1/1 [00:10<00:00, 10.44s/it, Loss=1.83, Accuracy=0.507]\n",
      "Validation - epoch 12: 100%|██████████| 1/1 [00:00<00:00,  1.35it/s, Loss=1.75, Accuracy=0.54]\n",
      "Training - epoch 13: 100%|██████████| 1/1 [00:08<00:00,  8.79s/it, Loss=1.81, Accuracy=0.507]\n",
      "Validation - epoch 13: 100%|██████████| 1/1 [00:00<00:00,  1.04it/s, Loss=1.73, Accuracy=0.541]\n",
      "Training - epoch 14: 100%|██████████| 1/1 [00:09<00:00,  9.21s/it, Loss=1.79, Accuracy=0.507]\n",
      "Validation - epoch 14: 100%|██████████| 1/1 [00:00<00:00,  1.32it/s, Loss=1.71, Accuracy=0.542]\n",
      "Training - epoch 15: 100%|██████████| 1/1 [00:08<00:00,  8.87s/it, Loss=1.77, Accuracy=0.507]\n",
      "Validation - epoch 15: 100%|██████████| 1/1 [00:00<00:00,  1.32it/s, Loss=1.7, Accuracy=0.543]\n",
      "Training - epoch 16: 100%|██████████| 1/1 [00:08<00:00,  8.62s/it, Loss=1.75, Accuracy=0.508]\n",
      "Validation - epoch 16: 100%|██████████| 1/1 [00:00<00:00,  1.30it/s, Loss=1.69, Accuracy=0.545]\n",
      "Training - epoch 17: 100%|██████████| 1/1 [00:08<00:00,  8.63s/it, Loss=1.74, Accuracy=0.51]\n",
      "Validation - epoch 17: 100%|██████████| 1/1 [00:00<00:00,  1.36it/s, Loss=1.69, Accuracy=0.547]\n",
      "Training - epoch 18: 100%|██████████| 1/1 [00:08<00:00,  8.62s/it, Loss=1.73, Accuracy=0.512]\n",
      "Validation - epoch 18: 100%|██████████| 1/1 [00:00<00:00,  1.25it/s, Loss=1.69, Accuracy=0.551]\n",
      "Training - epoch 19: 100%|██████████| 1/1 [00:09<00:00,  9.45s/it, Loss=1.72, Accuracy=0.515]\n",
      "Validation - epoch 19: 100%|██████████| 1/1 [00:00<00:00,  1.30it/s, Loss=1.69, Accuracy=0.554]\n"
     ]
    }
   ],
   "source": [
    "valid_accs = np.zeros(n_folds)\n",
    "for k in range(n_folds):\n",
    "    print(f\"Fold {k} of {n_folds}\")\n",
    "    train_dataloader = stellar_data.StellarDataloader(\n",
    "        filename='stellar_graph_dataset_train.pt',\n",
    "        batch_size=512,\n",
    "        shuffle=True,\n",
    "        graphs_idx=sample_idx_permutations[k][\"train\"],\n",
    "        test=False\n",
    "    )\n",
    "    valid_dataloader = stellar_data.StellarDataloader(\n",
    "        filename='stellar_graph_dataset_train.pt',\n",
    "        batch_size=512,\n",
    "        shuffle=False,\n",
    "        graphs_idx=sample_idx_permutations[k][\"valid\"],\n",
    "        test=False\n",
    "    )\n",
    "\n",
    "    vanilla_stellar_reduced = vanilla_stellar.VanillaStellarReduced(cfg_reduced)\n",
    "    valid_acc = vanilla_stellar_reduced.train(\n",
    "        train_loader=train_dataloader,\n",
    "        valid_loader=valid_dataloader,\n",
    "        epochs=n_epochs,\n",
    "        return_valid_acc=True)\n",
    "    valid_accs[k] = valid_acc"
   ]
  },
  {
   "cell_type": "code",
   "execution_count": 15,
   "metadata": {},
   "outputs": [
    {
     "name": "stdout",
     "output_type": "stream",
     "text": [
      "Mean validation accuracy: 0.5245523750782013 +/- 0.08812878765431796\n"
     ]
    }
   ],
   "source": [
    "print(f\"Mean validation accuracy: {valid_accs.mean()} +/- {valid_accs.std()}\")"
   ]
  }
 ],
 "metadata": {
  "kernelspec": {
   "display_name": "dlls-pro-venv",
   "language": "python",
   "name": "python3"
  },
  "language_info": {
   "codemirror_mode": {
    "name": "ipython",
    "version": 3
   },
   "file_extension": ".py",
   "mimetype": "text/x-python",
   "name": "python",
   "nbconvert_exporter": "python",
   "pygments_lexer": "ipython3",
   "version": "3.11.9"
  }
 },
 "nbformat": 4,
 "nbformat_minor": 2
}
