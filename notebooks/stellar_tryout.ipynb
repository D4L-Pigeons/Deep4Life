{
 "cells": [
  {
   "cell_type": "code",
   "execution_count": 9,
   "metadata": {},
   "outputs": [],
   "source": [
    "import os\n",
    "os.chdir('..')"
   ]
  },
  {
   "cell_type": "code",
   "execution_count": 47,
   "metadata": {},
   "outputs": [],
   "source": [
    "from src.datasets.stellar_data import StellarDataloader, make_graph_list\n",
    "import random\n",
    "import numpy as np\n",
    "import src.datasets.load_d4ls as load_d4ls\n",
    "import torch\n",
    "from src.models.vanilla_stellar import VanillaStellarReduced\n",
    "import pandas as pd"
   ]
  },
  {
   "cell_type": "code",
   "execution_count": 12,
   "metadata": {},
   "outputs": [],
   "source": [
    "make_graph_list([], \"graphs.pt\", 50)"
   ]
  },
  {
   "cell_type": "code",
   "execution_count": 15,
   "metadata": {},
   "outputs": [],
   "source": [
    "data_path = load_d4ls.TRAIN_DATA_PATH\n",
    "file_path = data_path / \"graphs.pt\"\n",
    "assert file_path.exists(), f\"File graphs.pt does not exist in {data_path}\"\n",
    "graphs = torch.load(file_path)"
   ]
  },
  {
   "cell_type": "code",
   "execution_count": 50,
   "metadata": {},
   "outputs": [],
   "source": [
    "sizes = pd.Series([len(g.y) for g in graphs])"
   ]
  },
  {
   "cell_type": "code",
   "execution_count": 51,
   "metadata": {},
   "outputs": [
    {
     "data": {
      "text/plain": [
       "count     125.00000\n",
       "mean     1894.32800\n",
       "std       765.85854\n",
       "min       340.00000\n",
       "25%      1351.00000\n",
       "50%      1883.00000\n",
       "75%      2304.00000\n",
       "max      5152.00000\n",
       "dtype: float64"
      ]
     },
     "execution_count": 51,
     "metadata": {},
     "output_type": "execute_result"
    }
   ],
   "source": [
    "sizes.describe()"
   ]
  },
  {
   "cell_type": "code",
   "execution_count": 25,
   "metadata": {},
   "outputs": [],
   "source": [
    "test_idx = np.random.choice(np.arange(125), size=10, replace=False)"
   ]
  },
  {
   "cell_type": "code",
   "execution_count": 26,
   "metadata": {},
   "outputs": [],
   "source": [
    "test_mask = np.zeros(125, dtype=bool)\n",
    "test_mask[test_idx] = True\n",
    "train_idx = np.where(~test_mask)[0]"
   ]
  },
  {
   "cell_type": "code",
   "execution_count": 38,
   "metadata": {},
   "outputs": [],
   "source": [
    "train_data_loader = StellarDataloader(\"graphs.pt\", test=False, batch_size=1, shuffle=True, graphs_idx=train_idx)\n",
    "test_data_loader = StellarDataloader(\"graphs.pt\", test=False, batch_size=1, shuffle=False, graphs_idx=test_idx)"
   ]
  },
  {
   "cell_type": "code",
   "execution_count": 33,
   "metadata": {},
   "outputs": [
    {
     "name": "stdout",
     "output_type": "stream",
     "text": [
      "{'device': 'cpu', 'input_dim': 40, 'hid_dim': 160, 'num_classes': 14, 'lr': 0.001}\n"
     ]
    }
   ],
   "source": [
    "class ModelConfig:\n",
    "    def __init__(self):\n",
    "        self.device = \"cuda\" if torch.cuda.is_available() else \"cpu\"\n",
    "        self.input_dim = 40\n",
    "        self.hid_dim = 40*4 \n",
    "        self.num_classes = 14\n",
    "        self.lr = 0.001\n",
    "\n",
    "# Example usage:\n",
    "config = ModelConfig()\n",
    "print(config.__dict__)  # Output: 0.001"
   ]
  },
  {
   "cell_type": "code",
   "execution_count": 41,
   "metadata": {},
   "outputs": [],
   "source": [
    "stellar = VanillaStellarReduced(config)"
   ]
  },
  {
   "cell_type": "code",
   "execution_count": 44,
   "metadata": {},
   "outputs": [
    {
     "name": "stderr",
     "output_type": "stream",
     "text": [
      "Training - epoch 0: 100%|██████████| 115/115 [00:09<00:00, 12.29it/s, Loss=0.175, Accuracy=0.94] \n",
      "Validation - epoch 0: 100%|██████████| 10/10 [00:00<00:00, 25.97it/s, Loss=0.138, Accuracy=0.952]\n",
      "Training - epoch 1: 100%|██████████| 115/115 [00:08<00:00, 12.90it/s, Loss=0.174, Accuracy=0.939]\n",
      "Validation - epoch 1: 100%|██████████| 10/10 [00:00<00:00, 24.25it/s, Loss=0.157, Accuracy=0.945]\n",
      "Training - epoch 2: 100%|██████████| 115/115 [00:09<00:00, 12.03it/s, Loss=0.174, Accuracy=0.939]\n",
      "Validation - epoch 2: 100%|██████████| 10/10 [00:00<00:00, 21.80it/s, Loss=0.162, Accuracy=0.94]\n",
      "Training - epoch 3: 100%|██████████| 115/115 [00:09<00:00, 12.47it/s, Loss=0.171, Accuracy=0.94] \n",
      "Validation - epoch 3: 100%|██████████| 10/10 [00:00<00:00, 21.96it/s, Loss=0.174, Accuracy=0.936]\n",
      "Training - epoch 4: 100%|██████████| 115/115 [00:11<00:00,  9.93it/s, Loss=0.168, Accuracy=0.941]\n",
      "Validation - epoch 4: 100%|██████████| 10/10 [00:00<00:00, 23.60it/s, Loss=0.171, Accuracy=0.94]\n",
      "Training - epoch 5: 100%|██████████| 115/115 [00:18<00:00,  6.35it/s, Loss=0.165, Accuracy=0.942]\n",
      "Validation - epoch 5: 100%|██████████| 10/10 [00:00<00:00, 11.48it/s, Loss=0.152, Accuracy=0.947]\n",
      "Training - epoch 6: 100%|██████████| 115/115 [00:11<00:00, 10.38it/s, Loss=0.165, Accuracy=0.942]\n",
      "Validation - epoch 6: 100%|██████████| 10/10 [00:00<00:00, 26.45it/s, Loss=0.135, Accuracy=0.953]\n",
      "Training - epoch 7: 100%|██████████| 115/115 [00:10<00:00, 11.12it/s, Loss=0.169, Accuracy=0.941]\n",
      "Validation - epoch 7: 100%|██████████| 10/10 [00:00<00:00, 19.13it/s, Loss=0.139, Accuracy=0.95] \n",
      "Training - epoch 8: 100%|██████████| 115/115 [00:10<00:00, 11.24it/s, Loss=0.162, Accuracy=0.943]\n",
      "Validation - epoch 8: 100%|██████████| 10/10 [00:00<00:00, 23.86it/s, Loss=0.171, Accuracy=0.938]\n",
      "Training - epoch 9: 100%|██████████| 115/115 [00:09<00:00, 11.61it/s, Loss=0.16, Accuracy=0.944] \n",
      "Validation - epoch 9: 100%|██████████| 10/10 [00:00<00:00, 24.25it/s, Loss=0.162, Accuracy=0.938]\n"
     ]
    },
    {
     "data": {
      "text/plain": [
       "0.9384873628616333"
      ]
     },
     "execution_count": 44,
     "metadata": {},
     "output_type": "execute_result"
    }
   ],
   "source": [
    "stellar.train(train_data_loader, test_data_loader, epochs=10, return_valid_acc=True)"
   ]
  }
 ],
 "metadata": {
  "kernelspec": {
   "display_name": "base",
   "language": "python",
   "name": "python3"
  },
  "language_info": {
   "codemirror_mode": {
    "name": "ipython",
    "version": 3
   },
   "file_extension": ".py",
   "mimetype": "text/x-python",
   "name": "python",
   "nbconvert_exporter": "python",
   "pygments_lexer": "ipython3",
   "version": "3.11.5"
  }
 },
 "nbformat": 4,
 "nbformat_minor": 2
}
