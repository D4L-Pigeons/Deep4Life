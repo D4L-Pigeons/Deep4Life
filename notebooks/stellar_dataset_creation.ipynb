{
 "cells": [
  {
   "cell_type": "code",
   "execution_count": 1,
   "metadata": {},
   "outputs": [
    {
     "name": "stderr",
     "output_type": "stream",
     "text": [
      "d:\\dlls-pro\\dlls-pro-venv\\Lib\\site-packages\\torch_geometric\\typing.py:110: UserWarning: An issue occurred while importing 'torch-sparse'. Disabling its usage. Stacktrace: [WinError 127] Nie można odnaleźć określonej procedury\n",
      "  warnings.warn(f\"An issue occurred while importing 'torch-sparse'. \"\n"
     ]
    }
   ],
   "source": [
    "import os\n",
    "os.chdir('../src')\n",
    "import yaml\n",
    "import argparse\n",
    "import matplotlib.pyplot as plt\n",
    "import numpy as np\n",
    "from sklearn.preprocessing import LabelEncoder\n",
    "from datasets import stellar_data\n",
    "from datasets.stellar_data import make_graph_list_from_anndata, StellarDataloader\n",
    "from datasets import data_utils"
   ]
  },
  {
   "cell_type": "markdown",
   "metadata": {},
   "source": [
    "## Finding the distances threshold for the cell pairs within a sample\n",
    "In the paper the distance threshold is chosen so that there are on average 5 vertices connected to each node. Given the cdf of the distances between cell pairs (with redundant info about distance of pairs) the cells $\\mathcal{F}(d)$ the task is to choose $d$, such that\n",
    "$$\\frac{\\mathcal{F}(d)\\cdot n_{distances}}{n_{cells}}\\approx 5 \\rightarrow d \\approx \\mathcal{F}^{-1}\\left(\\frac{5\\cdot n_{cells}}{n_{distances}}\\right)$$\n",
    "In the paper clustering bases sampling is used further limiting the number of neighbours in practice, but this is disregarded here."
   ]
  },
  {
   "cell_type": "code",
   "execution_count": 4,
   "metadata": {},
   "outputs": [],
   "source": [
    "all_distances = stellar_data.get_all_distances()"
   ]
  },
  {
   "cell_type": "code",
   "execution_count": 5,
   "metadata": {},
   "outputs": [
    {
     "data": {
      "image/png": "[encoded data removed]",
      "text/plain": [
       "<Figure size 640x480 with 1 Axes>"
      ]
     },
     "metadata": {},
     "output_type": "display_data"
    }
   ],
   "source": [
    "plt.hist(all_distances, bins=100)\n",
    "plt.show()"
   ]
  },
  {
   "cell_type": "code",
   "execution_count": 12,
   "metadata": {},
   "outputs": [
    {
     "name": "stdout",
     "output_type": "stream",
     "text": [
      "The calculated quantile order equals 0.002271199181869149\n"
     ]
    }
   ],
   "source": [
    "n_cells = len(data_utils.load_full_anndata())\n",
    "n_distances = len(all_distances)\n",
    "p = 5 * n_cells / n_distances\n",
    "print(f\"The calculated quantile order equals {p}\")"
   ]
  },
  {
   "cell_type": "code",
   "execution_count": 7,
   "metadata": {},
   "outputs": [],
   "source": [
    "distance_threshold = np.quantile(all_distances, p)"
   ]
  },
  {
   "cell_type": "code",
   "execution_count": 8,
   "metadata": {},
   "outputs": [
    {
     "name": "stdout",
     "output_type": "stream",
     "text": [
      "The calculated distance threshold equals 14.2844523820389\n"
     ]
    }
   ],
   "source": [
    "print(f\"The calculated distance threshold equals {distance_threshold}\")"
   ]
  },
  {
   "cell_type": "code",
   "execution_count": 9,
   "metadata": {},
   "outputs": [
    {
     "data": {
      "text/plain": [
       "5.0"
      ]
     },
     "execution_count": 9,
     "metadata": {},
     "output_type": "execute_result"
    }
   ],
   "source": [
    "(all_distances < distance_threshold).sum() / n_cells"
   ]
  },
  {
   "cell_type": "markdown",
   "metadata": {},
   "source": [
    "## Creating a dataset based on the configuration file"
   ]
  },
  {
   "cell_type": "code",
   "execution_count": 6,
   "metadata": {},
   "outputs": [
    {
     "name": "stdout",
     "output_type": "stream",
     "text": [
      "Namespace(device='cpu', distance_threshold=14.28, batch_size=1, lr=0.001, epochs=20, weight_decay=0, hid_dim=160, input_dim=40, num_classes=14, target_labels=['B', 'BnT', 'CD4', 'CD8', 'DC', 'HLADR', 'MacCD163', 'Mural', 'NK', 'Neutrophil', 'Treg', 'Tumor', 'pDC', 'plasma'], encoder_impl=0, classification_head_impl=0)\n"
     ]
    }
   ],
   "source": [
    "with open('config/stellar/standard.yaml', 'r') as file:\n",
    "    cfg = argparse.Namespace(**yaml.safe_load(file))\n",
    "\n",
    "print(cfg)"
   ]
  },
  {
   "cell_type": "code",
   "execution_count": 11,
   "metadata": {},
   "outputs": [
    {
     "data": {
      "text/plain": [
       "['B',\n",
       " 'BnT',\n",
       " 'CD4',\n",
       " 'CD8',\n",
       " 'DC',\n",
       " 'HLADR',\n",
       " 'MacCD163',\n",
       " 'Mural',\n",
       " 'NK',\n",
       " 'Neutrophil',\n",
       " 'Treg',\n",
       " 'Tumor',\n",
       " 'pDC',\n",
       " 'plasma']"
      ]
     },
     "execution_count": 11,
     "metadata": {},
     "output_type": "execute_result"
    }
   ],
   "source": [
    "cfg.target_labels"
   ]
  },
  {
   "cell_type": "code",
   "execution_count": 3,
   "metadata": {},
   "outputs": [],
   "source": [
    "anndata = data_utils.load_full_anndata(test=False)"
   ]
  },
  {
   "cell_type": "code",
   "execution_count": 7,
   "metadata": {},
   "outputs": [],
   "source": [
    "label_encoder = LabelEncoder().fit(cfg.target_labels)"
   ]
  },
  {
   "cell_type": "code",
   "execution_count": 8,
   "metadata": {},
   "outputs": [],
   "source": [
    "graph_list = stellar_data.make_graph_list_from_anndata(\n",
    "    anndata=anndata,\n",
    "    label_encoder=label_encoder,\n",
    "    distance_threshold=14,\n",
    ")"
   ]
  },
  {
   "cell_type": "code",
   "execution_count": 9,
   "metadata": {},
   "outputs": [
    {
     "data": {
      "text/plain": [
       "Data(x=[487, 40], edge_index=[2, 550], y=[487], cell_ids=[487])"
      ]
     },
     "execution_count": 9,
     "metadata": {},
     "output_type": "execute_result"
    }
   ],
   "source": [
    "graph_list[0]"
   ]
  },
  {
   "cell_type": "markdown",
   "metadata": {},
   "source": [
    "### Creating dataloaders based on the created list of graphs"
   ]
  },
  {
   "cell_type": "code",
   "execution_count": 22,
   "metadata": {},
   "outputs": [],
   "source": [
    "stellar_dataloader = StellarDataloader(graph_list, batch_size=cfg.batch_size, shuffle=True)"
   ]
  },
  {
   "cell_type": "code",
   "execution_count": 23,
   "metadata": {},
   "outputs": [
    {
     "data": {
      "text/plain": [
       "DataBatch(x=[563, 40], edge_index=[2, 870], y=[563], cell_ids=[1], batch=[563], ptr=[2])"
      ]
     },
     "execution_count": 23,
     "metadata": {},
     "output_type": "execute_result"
    }
   ],
   "source": [
    "next(iter(stellar_dataloader))"
   ]
  }
 ],
 "metadata": {
  "kernelspec": {
   "display_name": "dlls-pro-venv",
   "language": "python",
   "name": "python3"
  },
  "language_info": {
   "codemirror_mode": {
    "name": "ipython",
    "version": 3
   },
   "file_extension": ".py",
   "mimetype": "text/x-python",
   "name": "python",
   "nbconvert_exporter": "python",
   "pygments_lexer": "ipython3",
   "version": "3.11.9"
  }
 },
 "nbformat": 4,
 "nbformat_minor": 2
}
