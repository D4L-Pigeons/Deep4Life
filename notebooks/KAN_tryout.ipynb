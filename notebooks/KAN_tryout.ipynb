{
 "cells": [
  {
   "cell_type": "code",
   "execution_count": 1,
   "metadata": {},
   "outputs": [],
   "source": [
    "import os\n",
    "os.chdir('../src')"
   ]
  },
  {
   "cell_type": "code",
   "execution_count": 2,
   "metadata": {},
   "outputs": [],
   "source": [
    "import numpy as np\n",
    "\n",
    "import torch\n",
    "import torch.nn as nn\n",
    "import torch.optim as optim\n",
    "import pandas as pd\n",
    "from datasets.load_d4ls import load_full_anndata\n",
    "from sklearn.metrics import pairwise_distances\n",
    "from sklearn.preprocessing import MinMaxScaler\n",
    "from sklearn.model_selection import GridSearchCV, train_test_split\n",
    "from sklearn.metrics import accuracy_score, classification_report\n",
    "from sklearn.neural_network import MLPClassifier\n",
    "import time\n",
    "from sklearn.model_selection import KFold\n",
    "\n",
    "pd.set_option('display.max_columns', None)"
   ]
  },
  {
   "cell_type": "code",
   "execution_count": 3,
   "metadata": {},
   "outputs": [],
   "source": [
    "def get_edge_index(pos, sample_ids, distance_thres):\n",
    "    # construct edge indexes when there is region information\n",
    "    edge_list = []\n",
    "    sample_ids_unique = np.unique(sample_ids)\n",
    "    for sample_id in sample_ids_unique:\n",
    "        locs = np.where(sample_ids == sample_id)[0]\n",
    "        pos_region = pos[locs, :]\n",
    "        dists = pairwise_distances(pos_region)\n",
    "        dists_mask = dists < distance_thres\n",
    "        np.fill_diagonal(dists_mask, 0)\n",
    "        region_edge_list = np.transpose(np.nonzero(dists_mask)).tolist()\n",
    "        for i, j in region_edge_list:\n",
    "            edge_list.append([locs[i], locs[j]])\n",
    "    return edge_list"
   ]
  },
  {
   "cell_type": "code",
   "execution_count": 4,
   "metadata": {},
   "outputs": [],
   "source": [
    "def get_train_test_masks(train_anndata, test_count=0):\n",
    "    sample_ids = train_anndata.obs[\"sample_id\"]\n",
    "    sample_ids_unique = np.unique(sample_ids)\n",
    "\n",
    "    sample_ids_idx = np.random.choice(np.arange(len(sample_ids_unique)), test_count, replace=False)\n",
    "    test_sample_ids_mask = np.zeros_like(sample_ids_unique, dtype=bool)\n",
    "    test_sample_ids_mask[sample_ids_idx] = True\n",
    "\n",
    "    test_unique_sample_ids = sample_ids_unique[test_sample_ids_mask]\n",
    "\n",
    "    test_mask = sample_ids.isin(test_unique_sample_ids)\n",
    "    train_mask = ~test_mask\n",
    "\n",
    "    return train_mask, test_mask"
   ]
  },
  {
   "cell_type": "code",
   "execution_count": 5,
   "metadata": {},
   "outputs": [],
   "source": [
    "def prepare_data(train_anndata, make_graph=False, test_samples=10):\n",
    "    train_mask, test_mask = get_train_test_masks(train_anndata, test_samples)\n",
    "\n",
    "    X = train_anndata.layers['exprs']\n",
    "    X_train = X[train_mask]\n",
    "    X_test = X[test_mask]\n",
    "\n",
    "    pos = train_anndata.obs[[\"Pos_X\", \"Pos_Y\"]].values\n",
    "    pos_train = pos[train_mask]\n",
    "    pos_test = pos[test_mask]\n",
    "\n",
    "    if make_graph:\n",
    "        sample_ids = train_anndata.obs[\"sample_id\"]\n",
    "        test_sample_ids = sample_ids[test_mask]\n",
    "        train_sample_ids = sample_ids[train_mask]\n",
    "\n",
    "        edges_train = get_edge_index(pos_train, train_sample_ids, 10)\n",
    "        edges_test = get_edge_index(pos_test, test_sample_ids, 10)\n",
    "    else:\n",
    "        edges_train = None\n",
    "        edges_test = None\n",
    "\n",
    "    cell_types = np.sort(list(set(train_anndata.obs[\"cell_labels\"].values))).tolist()\n",
    "    # we here map class in texts to categorical numbers and also save an inverse_dict to map the numbers back to texts\n",
    "    cell_type_dict = {}\n",
    "    inverse_dict = {}\n",
    "    for i, cell_type in enumerate(cell_types):\n",
    "        cell_type_dict[cell_type] = i\n",
    "        inverse_dict[i] = cell_type\n",
    "        \n",
    "    Y_train = train_anndata.obs[\"cell_labels\"].values[train_mask]\n",
    "    Y_test = train_anndata.obs[\"cell_labels\"].values[test_mask]\n",
    "\n",
    "    Y_train = np.array([cell_type_dict[x] for x in Y_train])\n",
    "    Y_test = np.array([cell_type_dict[x] for x in Y_test])\n",
    "\n",
    "    return X_train, Y_train, edges_train, X_test, Y_test, edges_test, inverse_dict"
   ]
  },
  {
   "cell_type": "code",
   "execution_count": 45,
   "metadata": {},
   "outputs": [],
   "source": [
    "train_anndata = load_full_anndata()\n",
    "\n",
    "X_train, Y_train, edges_train, X_test, Y_test, edges_test, inverse_dict = prepare_data(train_anndata)"
   ]
  },
  {
   "cell_type": "code",
   "execution_count": 10,
   "metadata": {},
   "outputs": [],
   "source": [
    "categories = train_anndata.obs[\"sample_id\"].cat.remove_unused_categories()"
   ]
  },
  {
   "cell_type": "code",
   "execution_count": 15,
   "metadata": {},
   "outputs": [
    {
     "name": "stdout",
     "output_type": "stream",
     "text": [
      "[  0   2   3   4   5   6   7   8   9  11  12  14  15  16  17  18  19  20\n",
      "  21  22  25  27  28  30  31  33  35  36  37  38  39  40  41  42  43  45\n",
      "  46  47  48  49  50  52  53  54  55  57  58  59  60  62  63  64  65  66\n",
      "  67  69  70  71  72  73  74  75  77  78  79  81  85  86  88  91  92  93\n",
      "  94  95  96  97  98  99 100 101 102 103 104 105 106 107 108 109 110 111\n",
      " 113 114 116 118 119 120 121 122 123 124] [  1  10  13  23  24  26  29  32  34  44  51  56  61  68  76  80  82  83\n",
      "  84  87  89  90 112 115 117]\n",
      "[  1   2   4   7   8   9  10  12  13  14  16  17  18  20  21  23  24  25\n",
      "  26  28  29  30  31  32  33  34  36  37  38  39  40  41  42  43  44  46\n",
      "  48  49  51  52  53  54  55  56  57  58  60  61  63  64  65  66  67  68\n",
      "  69  70  71  72  73  74  75  76  77  78  79  80  81  82  83  84  85  86\n",
      "  87  88  89  90  91  93  94  95 101 102 103 104 105 107 108 109 111 112\n",
      " 113 114 115 116 117 118 119 120 123 124] [  0   3   5   6  11  15  19  22  27  35  45  47  50  59  62  92  96  97\n",
      "  98  99 100 106 110 121 122]\n",
      "[  0   1   3   4   5   6   7   9  10  11  13  15  17  18  19  20  21  22\n",
      "  23  24  25  26  27  28  29  31  32  33  34  35  39  40  41  42  43  44\n",
      "  45  46  47  48  50  51  52  53  54  56  57  58  59  60  61  62  63  64\n",
      "  65  66  67  68  69  73  74  76  77  78  80  81  82  83  84  85  86  87\n",
      "  89  90  91  92  94  95  96  97  98  99 100 104 106 108 109 110 112 113\n",
      " 115 116 117 118 119 120 121 122 123 124] [  2   8  12  14  16  30  36  37  38  49  55  70  71  72  75  79  88  93\n",
      " 101 102 103 105 107 111 114]\n",
      "[  0   1   2   3   5   6   7   8   9  10  11  12  13  14  15  16  17  19\n",
      "  20  21  22  23  24  26  27  28  29  30  32  34  35  36  37  38  41  44\n",
      "  45  46  47  48  49  50  51  55  56  59  60  61  62  63  64  66  68  70\n",
      "  71  72  73  75  76  78  79  80  82  83  84  87  88  89  90  91  92  93\n",
      "  94  96  97  98  99 100 101 102 103 104 105 106 107 109 110 111 112 113\n",
      " 114 115 116 117 118 120 121 122 123 124] [  4  18  25  31  33  39  40  42  43  52  53  54  57  58  65  67  69  74\n",
      "  77  81  85  86  95 108 119]\n",
      "[  0   1   2   3   4   5   6   8  10  11  12  13  14  15  16  18  19  22\n",
      "  23  24  25  26  27  29  30  31  32  33  34  35  36  37  38  39  40  42\n",
      "  43  44  45  47  49  50  51  52  53  54  55  56  57  58  59  61  62  65\n",
      "  67  68  69  70  71  72  74  75  76  77  79  80  81  82  83  84  85  86\n",
      "  87  88  89  90  92  93  95  96  97  98  99 100 101 102 103 105 106 107\n",
      " 108 110 111 112 114 115 117 119 121 122] [  7   9  17  20  21  28  41  46  48  60  63  64  66  73  78  91  94 104\n",
      " 109 113 116 118 120 123 124]\n"
     ]
    }
   ],
   "source": [
    "kfold = KFold(n_splits=5, shuffle=True, random_state=124)\n",
    "split = kfold.split(categories.cat.categories)\n",
    "for train, test in split:\n",
    "    print(train, test)"
   ]
  },
  {
   "cell_type": "code",
   "execution_count": 16,
   "metadata": {},
   "outputs": [
    {
     "data": {
      "text/plain": [
       "563"
      ]
     },
     "execution_count": 16,
     "metadata": {},
     "output_type": "execute_result"
    }
   ],
   "source": [
    "train_anndata.obs[\"sample_id\"].isin(categories.cat.categories[[5]]).sum()"
   ]
  },
  {
   "cell_type": "code",
   "execution_count": 46,
   "metadata": {},
   "outputs": [
    {
     "data": {
      "text/plain": [
       "(216657, 40)"
      ]
     },
     "execution_count": 46,
     "metadata": {},
     "output_type": "execute_result"
    }
   ],
   "source": [
    "X_train.shape"
   ]
  },
  {
   "cell_type": "code",
   "execution_count": 56,
   "metadata": {},
   "outputs": [
    {
     "data": {
      "text/plain": [
       "(216657,)"
      ]
     },
     "execution_count": 56,
     "metadata": {},
     "output_type": "execute_result"
    }
   ],
   "source": [
    "Y_train.shape"
   ]
  },
  {
   "cell_type": "code",
   "execution_count": 57,
   "metadata": {},
   "outputs": [
    {
     "data": {
      "text/plain": [
       "array([ 7, 11, 11, ..., 11,  3, 11])"
      ]
     },
     "execution_count": 57,
     "metadata": {},
     "output_type": "execute_result"
    }
   ],
   "source": [
    "Y_test"
   ]
  },
  {
   "cell_type": "code",
   "execution_count": 66,
   "metadata": {},
   "outputs": [
    {
     "data": {
      "text/plain": [
       "torch.Size([216657])"
      ]
     },
     "execution_count": 66,
     "metadata": {},
     "output_type": "execute_result"
    }
   ],
   "source": [
    "torch.from_numpy(Y_train).shape"
   ]
  },
  {
   "cell_type": "code",
   "execution_count": 79,
   "metadata": {},
   "outputs": [],
   "source": [
    "dataset = {}\n",
    "dataset['train_input'] = torch.Tensor(X_train)\n",
    "dataset['train_label'] = torch.Tensor(Y_train).long()\n",
    "dataset['test_input'] = torch.Tensor(X_test)\n",
    "dataset['test_label'] = torch.Tensor(Y_test).long()"
   ]
  },
  {
   "cell_type": "code",
   "execution_count": 80,
   "metadata": {},
   "outputs": [
    {
     "data": {
      "text/plain": [
       "torch.Size([216657, 40])"
      ]
     },
     "execution_count": 80,
     "metadata": {},
     "output_type": "execute_result"
    }
   ],
   "source": [
    "dataset['train_input'].shape"
   ]
  },
  {
   "cell_type": "code",
   "execution_count": 83,
   "metadata": {},
   "outputs": [
    {
     "data": {
      "text/plain": [
       "tensor([ 0,  1,  2,  3,  4,  5,  6,  7,  8,  9, 10, 11, 12, 13])"
      ]
     },
     "execution_count": 83,
     "metadata": {},
     "output_type": "execute_result"
    }
   ],
   "source": [
    "dataset['train_label'].unique()"
   ]
  },
  {
   "cell_type": "code",
   "execution_count": 20,
   "metadata": {},
   "outputs": [],
   "source": [
    "# scaler = MinMaxScaler()\n",
    "# scaler.fit(X_train)\n",
    "# X_train_scaled = scaler.transform(X_train)"
   ]
  },
  {
   "cell_type": "code",
   "execution_count": 84,
   "metadata": {},
   "outputs": [],
   "source": [
    "from kan import *\n",
    "# create a KAN: 2D inputs, 1D output, and 5 hidden neurons. cubic spline (k=3), 5 grid intervals (grid=5).\n",
    "model = KAN(width=[40,14], grid=5, k=3, seed=0)"
   ]
  },
  {
   "cell_type": "code",
   "execution_count": null,
   "metadata": {},
   "outputs": [
    {
     "name": "stderr",
     "output_type": "stream",
     "text": [
      "\r",
      "description:   0%|                                                           | 0/20 [00:00<?, ?it/s]"
     ]
    }
   ],
   "source": [
    "def train_acc():\n",
    "    return torch.mean((torch.argmax(model(dataset['train_input']), dim=1) == dataset['train_label']).float())\n",
    "\n",
    "def test_acc():\n",
    "    return torch.mean((torch.argmax(model(dataset['test_input']), dim=1) == dataset['test_label']).float())\n",
    "\n",
    "results = model.train(dataset, opt=\"LBFGS\", steps=20, metrics=(train_acc, test_acc), loss_fn=torch.nn.CrossEntropyLoss());"
   ]
  },
  {
   "cell_type": "code",
   "execution_count": null,
   "metadata": {},
   "outputs": [],
   "source": [
    "lib = ['x','x^2','x^3','x^4','exp','log','sqrt','tanh','sin','abs']\n",
    "model.auto_symbolic(lib=lib)"
   ]
  },
  {
   "cell_type": "code",
   "execution_count": 37,
   "metadata": {},
   "outputs": [
    {
     "data": {
      "image/png": "[encoded data removed]",
      "text/plain": [
       "<Figure size 500x200 with 41 Axes>"
      ]
     },
     "metadata": {},
     "output_type": "display_data"
    }
   ],
   "source": [
    "model(dataset['train_input']);\n",
    "model.plot(beta=100)"
   ]
  },
  {
   "cell_type": "code",
   "execution_count": null,
   "metadata": {},
   "outputs": [],
   "source": [
    "results['train_acc'][-1], results['test_acc'][-1]"
   ]
  },
  {
   "cell_type": "code",
   "execution_count": null,
   "metadata": {},
   "outputs": [],
   "source": [
    "lib = ['x','x^2','x^3','x^4','exp','log','sqrt','tanh','sin','tan','abs']\n",
    "model.auto_symbolic(lib=lib)\n",
    "formula = model.symbolic_formula()[0][0]"
   ]
  },
  {
   "cell_type": "code",
   "execution_count": null,
   "metadata": {},
   "outputs": [],
   "source": [
    "model.plot()"
   ]
  },
  {
   "cell_type": "code",
   "execution_count": null,
   "metadata": {},
   "outputs": [],
   "source": [
    "model.prune()\n",
    "model.plot(mask=True)"
   ]
  },
  {
   "cell_type": "code",
   "execution_count": null,
   "metadata": {},
   "outputs": [],
   "source": [
    "model = model.prune()\n",
    "model(X_train)\n",
    "model.plot()"
   ]
  },
  {
   "cell_type": "code",
   "execution_count": null,
   "metadata": {},
   "outputs": [],
   "source": [
    "mode = \"auto\" # \"manual\"\n",
    "\n",
    "if mode == \"manual\":\n",
    "    # manual mode\n",
    "    model.fix_symbolic(0,0,0,'sin');\n",
    "    model.fix_symbolic(0,1,0,'x^2');\n",
    "    model.fix_symbolic(1,0,0,'exp');\n",
    "elif mode == \"auto\":\n",
    "    # automatic mode\n",
    "    lib = ['x','x^2','x^3','x^4','exp','log','sqrt','tanh','sin','abs']\n",
    "    model.auto_symbolic(lib=lib)"
   ]
  },
  {
   "cell_type": "code",
   "execution_count": null,
   "metadata": {},
   "outputs": [],
   "source": [
    "(Y_test == predicted).sum() / len(predicted)"
   ]
  },
  {
   "cell_type": "code",
   "execution_count": null,
   "metadata": {},
   "outputs": [],
   "source": [
    "clf.coefs_"
   ]
  },
  {
   "cell_type": "code",
   "execution_count": null,
   "metadata": {},
   "outputs": [],
   "source": [
    "clf.intercepts_[2]"
   ]
  },
  {
   "cell_type": "code",
   "execution_count": null,
   "metadata": {},
   "outputs": [],
   "source": []
  },
  {
   "cell_type": "code",
   "execution_count": null,
   "metadata": {},
   "outputs": [],
   "source": [
    "best_xgb_param_grid = {\n",
    "    \"n_estimators\": [30, 40, 50],\n",
    "    \"max_depth\": [3],\n",
    "    \"learning_rate\": [0.3],\n",
    "    'objective': ['multi:softmax']\n",
    "}\n",
    "\n",
    "xgb_grid_search = GridSearchCV(XGBClassifier(), param_grid=best_xgb_param_grid, cv=5, n_jobs=-1, return_train_score=True, verbose=3)"
   ]
  },
  {
   "cell_type": "code",
   "execution_count": null,
   "metadata": {},
   "outputs": [],
   "source": [
    "xgb_grid_search.fit(X_train_scaled, Y_train)"
   ]
  },
  {
   "cell_type": "code",
   "execution_count": null,
   "metadata": {},
   "outputs": [],
   "source": [
    "pd.DataFrame(xgb_grid_search.cv_results_)"
   ]
  },
  {
   "cell_type": "code",
   "execution_count": null,
   "metadata": {},
   "outputs": [],
   "source": [
    "class MLP(nn.Module):\n",
    "    def __init__(self):\n",
    "      super().__init__()\n",
    "      self.layers = nn.Sequential(\n",
    "        nn.Linear(40, 40*4),\n",
    "        nn.ReLU(),\n",
    "        nn.Linear(40*4, 40*4),\n",
    "        nn.ReLU(),\n",
    "        nn.Linear(40*4, 14),\n",
    "        # nn.Softmax(dim=1)\n",
    "      )\n",
    "    def forward(self, input):\n",
    "       return self.layers(input)"
   ]
  },
  {
   "cell_type": "code",
   "execution_count": null,
   "metadata": {},
   "outputs": [],
   "source": [
    "# train config\n",
    "\n",
    "max_epochs=42\n",
    "device = torch.device(\"cpu\")"
   ]
  },
  {
   "cell_type": "code",
   "execution_count": null,
   "metadata": {},
   "outputs": [],
   "source": [
    "class CustomDataset(torch.utils.data.Dataset):\n",
    "    def __init__(self, X_train, Y_train):\n",
    "        self.X_train = X_train\n",
    "        self.Y_train = Y_train\n",
    "        \n",
    "    def __len__(self):\n",
    "        return len(self.X_train)\n",
    "    \n",
    "    def __getitem__(self, idx):\n",
    "        return self.X_train[idx], self.Y_train[idx]\n",
    "\n",
    "\n",
    "x_train, X_val, y_train, y_val = train_test_split(torch.tensor(X_train).float(), torch.tensor(Y_train).long(), test_size=0.1, random_state=42)\n",
    "\n",
    "# Create CustomDataset instance\n",
    "train_dataset = CustomDataset(x_train, y_train)\n",
    "# val_dataset = CustomDataset(X_val, y_val)\n",
    "\n",
    "# Create DataLoader\n",
    "batch_size = 200\n",
    "train_data_loader = torch.utils.data.DataLoader(train_dataset, batch_size=batch_size, shuffle=True)\n",
    "# val_data_loader = torch.utils.data.DataLoader(val_dataset, batch_size=batch_size, shuffle=False)"
   ]
  },
  {
   "cell_type": "code",
   "execution_count": null,
   "metadata": {},
   "outputs": [],
   "source": [
    "def compute_accuracy(model, X_val, y_val):\n",
    "    model.eval()  # Set the model to evaluation mode\n",
    "\n",
    "    with torch.no_grad():  # No need to compute gradients during validation\n",
    "        pred = model(X_val)\n",
    "        correct = (torch.argmax(pred, dim=1) == y_val).float().sum()\n",
    "        accuracy = correct / len(y_val)\n",
    "\n",
    "    return accuracy"
   ]
  },
  {
   "cell_type": "code",
   "execution_count": null,
   "metadata": {},
   "outputs": [],
   "source": [
    "model = MLP()\n",
    "optimizer = optim.Adam(model.parameters(), lr=0.001, weight_decay=0.0001)\n",
    "criterion = nn.CrossEntropyLoss()\n",
    "\n",
    "model.train()\n",
    "start = time.time()\n",
    "\n",
    "best_val_acc = 0.\n",
    "best_model_weights = None\n",
    "\n",
    "train_losses = []\n",
    "val_acc = []\n",
    "\n",
    "for epoch in range(max_epochs):\n",
    "\n",
    "    total_loss = 0.\n",
    "    total_acc = 0.\n",
    "    printevery = 5\n",
    "\n",
    "    print(\"\\r   %dm: epoch %d [%s] %d%%  loss = %s\" %\\\n",
    "    ((time.time() - start)//60, epoch + 1, \"\".join(' '*20), 0, '...'), end='')\n",
    "\n",
    "\n",
    "    for i, (input, targets) in enumerate(train_data_loader):\n",
    "        input, targets = input.to(device), targets.to(device)\n",
    "\n",
    "        optimizer.zero_grad()\n",
    "        pred = model(input)\n",
    "        loss = criterion(pred, targets)\n",
    "\n",
    "        loss.backward()\n",
    "        optimizer.step()\n",
    "\n",
    "        total_loss += loss.item()\n",
    "\n",
    "        if (i + 1) % printevery == 0:\n",
    "                p = int(100 * (i + 1) / len(train_data_loader))\n",
    "                avg_loss = total_loss / printevery\n",
    "\n",
    "                print(\"\\r   %dm: epoch %d [%s%s] %d%% train loss = %.10f\" %\\\n",
    "                ((time.time() - start)//60, epoch + 1, \"\".join('#'*(p//5)), \"\".join(' '*(20-(p//5))), p, avg_loss), end='')\n",
    "\n",
    "                train_losses.append(avg_loss)\n",
    "                total_loss = 0.\n",
    "                total_acc = 0.\n",
    "\n",
    "    val_accuracy = compute_accuracy(model, X_val, y_val)\n",
    "    val_acc.append(val_accuracy)\n",
    "    if best_val_acc < val_accuracy:\n",
    "        best_model_weights = model.state_dict()\n",
    "\n",
    "    print(\"\\r%dm: epoch %d [%s%s] %d%% \\nepoch %d complete, val acc = %.10f\" %\\\n",
    "    ((time.time() - start)//60, epoch + 1, \"\".join('#'*(100//5)), \"\".join(' '*(20-(100//5))), 100, epoch + 1, val_accuracy))\n",
    "\n",
    "model.load_state_dict(best_model_weights)"
   ]
  },
  {
   "cell_type": "code",
   "execution_count": null,
   "metadata": {},
   "outputs": [],
   "source": [
    "model.load_state_dict(best_model_weights)"
   ]
  },
  {
   "cell_type": "code",
   "execution_count": null,
   "metadata": {},
   "outputs": [],
   "source": [
    "compute_accuracy(model, torch.tensor(X_test).float(), torch.tensor(Y_test).long())"
   ]
  },
  {
   "cell_type": "code",
   "execution_count": null,
   "metadata": {},
   "outputs": [],
   "source": [
    "model_from_sklearn = MLP()"
   ]
  },
  {
   "cell_type": "code",
   "execution_count": null,
   "metadata": {},
   "outputs": [],
   "source": [
    "state_dict = model_from_sklearn.state_dict()"
   ]
  },
  {
   "cell_type": "code",
   "execution_count": null,
   "metadata": {},
   "outputs": [],
   "source": [
    "torch.tensor(clf.coefs_[0]).float().shape"
   ]
  },
  {
   "cell_type": "code",
   "execution_count": null,
   "metadata": {},
   "outputs": [],
   "source": [
    "torch.tensor(clf.intercepts_[0]).float().shape"
   ]
  },
  {
   "cell_type": "code",
   "execution_count": null,
   "metadata": {},
   "outputs": [],
   "source": [
    "state_dict[\"layers.0.weight\"].shape"
   ]
  },
  {
   "cell_type": "code",
   "execution_count": null,
   "metadata": {},
   "outputs": [],
   "source": [
    "state_dict[\"layers.0.bias\"].shape"
   ]
  },
  {
   "cell_type": "code",
   "execution_count": null,
   "metadata": {},
   "outputs": [],
   "source": [
    "for i in range(len(clf.coefs_)):\n",
    "    state_dict[f\"layers.{2*i}.weight\"] = torch.tensor(clf.coefs_[i]).float().t()\n",
    "for i in range(len(clf.intercepts_)):\n",
    "    state_dict[f\"layers.{2*i}.bias\"] = torch.tensor(clf.intercepts_[i]).float()"
   ]
  },
  {
   "cell_type": "code",
   "execution_count": null,
   "metadata": {},
   "outputs": [],
   "source": [
    "model_from_sklearn.load_state_dict(state_dict)"
   ]
  },
  {
   "cell_type": "code",
   "execution_count": null,
   "metadata": {},
   "outputs": [],
   "source": [
    "compute_accuracy(model_from_sklearn, torch.tensor(X_test).float(), torch.tensor(Y_test).long())"
   ]
  }
 ],
 "metadata": {
  "kernelspec": {
   "display_name": "pykan-env",
   "language": "python",
   "name": "pykan-env"
  },
  "language_info": {
   "codemirror_mode": {
    "name": "ipython",
    "version": 3
   },
   "file_extension": ".py",
   "mimetype": "text/x-python",
   "name": "python",
   "nbconvert_exporter": "python",
   "pygments_lexer": "ipython3",
   "version": "3.9.7"
  }
 },
 "nbformat": 4,
 "nbformat_minor": 2
}
