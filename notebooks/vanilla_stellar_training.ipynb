{
 "cells": [
  {
   "cell_type": "code",
   "execution_count": 1,
   "metadata": {},
   "outputs": [
    {
     "name": "stderr",
     "output_type": "stream",
     "text": [
      "d:\\dlls-pro\\dlls-pro-venv\\Lib\\site-packages\\torch_geometric\\typing.py:110: UserWarning: An issue occurred while importing 'torch-sparse'. Disabling its usage. Stacktrace: [WinError 127] Nie można odnaleźć określonej procedury\n",
      "  warnings.warn(f\"An issue occurred while importing 'torch-sparse'. \"\n"
     ]
    }
   ],
   "source": [
    "import os\n",
    "if os.getcwd().endswith('notebooks'):\n",
    "    os.chdir(os.path.dirname(os.getcwd()))\n",
    "    \n",
    "from src.datasets import stellar_data\n",
    "from src.models import vanilla_stellar\n",
    "import torch\n",
    "import numpy as np\n",
    "import argparse"
   ]
  },
  {
   "cell_type": "code",
   "execution_count": 2,
   "metadata": {},
   "outputs": [],
   "source": [
    "GRAPH_DATASET_FILENAME = 'stellar_graph_dataset.pt'"
   ]
  },
  {
   "cell_type": "code",
   "execution_count": 3,
   "metadata": {},
   "outputs": [],
   "source": [
    "torch.manual_seed(42)\n",
    "sample_idx_permutations = []\n",
    "n_folds = 5\n",
    "n_train = 100\n",
    "for i in range(n_folds):\n",
    "    idx_perm = torch.randperm(125).tolist()\n",
    "    sample_idx_permutations.append({\"train\" : idx_perm[:n_train], \"valid\" : idx_perm[n_train:]})"
   ]
  },
  {
   "cell_type": "code",
   "execution_count": 7,
   "metadata": {},
   "outputs": [],
   "source": [
    "cfg_reduced = argparse.Namespace(**{\n",
    "    'device': torch.device('cuda' if torch.cuda.is_available() else 'cpu'),\n",
    "    'input_dim': 40,\n",
    "    'hid_dim': 128, # originally 128\n",
    "    'num_classes': 14,\n",
    "    'lr': 1e-3,\n",
    "})"
   ]
  },
  {
   "cell_type": "code",
   "execution_count": 8,
   "metadata": {},
   "outputs": [],
   "source": [
    "batch_size = 1\n",
    "n_epochs = 20"
   ]
  },
  {
   "cell_type": "code",
   "execution_count": 9,
   "metadata": {},
   "outputs": [
    {
     "name": "stdout",
     "output_type": "stream",
     "text": [
      "Fold 0 of 5\n"
     ]
    },
    {
     "name": "stderr",
     "output_type": "stream",
     "text": [
      "Training - epoch 0: 100%|██████████| 100/100 [00:02<00:00, 47.84it/s, Loss=1.23, Accuracy=0.647]\n",
      "Validation - epoch 0: 100%|██████████| 25/25 [00:00<00:00, 87.68it/s, Loss=0.615, Accuracy=0.815] \n",
      "Training - epoch 1: 100%|██████████| 100/100 [00:01<00:00, 56.22it/s, Loss=0.539, Accuracy=0.834]\n",
      "Validation - epoch 1: 100%|██████████| 25/25 [00:00<00:00, 130.17it/s, Loss=0.369, Accuracy=0.888]\n",
      "Training - epoch 2: 100%|██████████| 100/100 [00:01<00:00, 52.86it/s, Loss=0.417, Accuracy=0.864]\n",
      "Validation - epoch 2: 100%|██████████| 25/25 [00:00<00:00, 130.35it/s, Loss=0.363, Accuracy=0.89] \n",
      "Training - epoch 3: 100%|██████████| 100/100 [00:01<00:00, 55.03it/s, Loss=0.366, Accuracy=0.882]\n",
      "Validation - epoch 3: 100%|██████████| 25/25 [00:00<00:00, 131.67it/s, Loss=0.296, Accuracy=0.908]\n",
      "Training - epoch 4: 100%|██████████| 100/100 [00:01<00:00, 52.41it/s, Loss=0.321, Accuracy=0.895]\n",
      "Validation - epoch 4: 100%|██████████| 25/25 [00:00<00:00, 132.22it/s, Loss=0.307, Accuracy=0.908]\n",
      "Training - epoch 5: 100%|██████████| 100/100 [00:02<00:00, 48.92it/s, Loss=0.3, Accuracy=0.901] \n",
      "Validation - epoch 5: 100%|██████████| 25/25 [00:00<00:00, 132.32it/s, Loss=0.264, Accuracy=0.913]\n",
      "Training - epoch 6: 100%|██████████| 100/100 [00:01<00:00, 54.88it/s, Loss=0.284, Accuracy=0.906]\n",
      "Validation - epoch 6: 100%|██████████| 25/25 [00:00<00:00, 130.26it/s, Loss=0.258, Accuracy=0.918]\n",
      "Training - epoch 7: 100%|██████████| 100/100 [00:02<00:00, 48.61it/s, Loss=0.263, Accuracy=0.913]\n",
      "Validation - epoch 7: 100%|██████████| 25/25 [00:00<00:00, 127.64it/s, Loss=0.268, Accuracy=0.915]\n",
      "Training - epoch 8: 100%|██████████| 100/100 [00:02<00:00, 49.07it/s, Loss=0.271, Accuracy=0.91]\n",
      "Validation - epoch 8: 100%|██████████| 25/25 [00:00<00:00, 122.94it/s, Loss=0.251, Accuracy=0.92] \n",
      "Training - epoch 9: 100%|██████████| 100/100 [00:01<00:00, 53.39it/s, Loss=0.239, Accuracy=0.919]\n",
      "Validation - epoch 9: 100%|██████████| 25/25 [00:00<00:00, 80.95it/s, Loss=0.246, Accuracy=0.918] \n",
      "Training - epoch 10: 100%|██████████| 100/100 [00:01<00:00, 53.42it/s, Loss=0.235, Accuracy=0.92]\n",
      "Validation - epoch 10: 100%|██████████| 25/25 [00:00<00:00, 126.47it/s, Loss=0.253, Accuracy=0.919]\n",
      "Training - epoch 11: 100%|██████████| 100/100 [00:01<00:00, 51.61it/s, Loss=0.238, Accuracy=0.919]\n",
      "Validation - epoch 11: 100%|██████████| 25/25 [00:00<00:00, 122.60it/s, Loss=0.237, Accuracy=0.923]\n",
      "Training - epoch 12: 100%|██████████| 100/100 [00:01<00:00, 50.24it/s, Loss=0.233, Accuracy=0.921]\n",
      "Validation - epoch 12: 100%|██████████| 25/25 [00:00<00:00, 131.09it/s, Loss=0.243, Accuracy=0.919]\n",
      "Training - epoch 13: 100%|██████████| 100/100 [00:02<00:00, 48.23it/s, Loss=0.228, Accuracy=0.922]\n",
      "Validation - epoch 13: 100%|██████████| 25/25 [00:00<00:00, 122.96it/s, Loss=0.224, Accuracy=0.926]\n",
      "Training - epoch 14: 100%|██████████| 100/100 [00:01<00:00, 53.33it/s, Loss=0.21, Accuracy=0.929]\n",
      "Validation - epoch 14: 100%|██████████| 25/25 [00:00<00:00, 129.59it/s, Loss=0.232, Accuracy=0.922]\n",
      "Training - epoch 15: 100%|██████████| 100/100 [00:02<00:00, 49.14it/s, Loss=0.213, Accuracy=0.928]\n",
      "Validation - epoch 15: 100%|██████████| 25/25 [00:00<00:00, 124.65it/s, Loss=0.229, Accuracy=0.927]\n",
      "Training - epoch 16: 100%|██████████| 100/100 [00:02<00:00, 49.04it/s, Loss=0.212, Accuracy=0.927]\n",
      "Validation - epoch 16: 100%|██████████| 25/25 [00:00<00:00, 122.87it/s, Loss=0.217, Accuracy=0.93] \n",
      "Training - epoch 17: 100%|██████████| 100/100 [00:02<00:00, 48.46it/s, Loss=0.217, Accuracy=0.926]\n",
      "Validation - epoch 17: 100%|██████████| 25/25 [00:00<00:00, 125.90it/s, Loss=0.226, Accuracy=0.926]\n",
      "Training - epoch 18: 100%|██████████| 100/100 [00:02<00:00, 49.09it/s, Loss=0.211, Accuracy=0.927]\n",
      "Validation - epoch 18: 100%|██████████| 25/25 [00:00<00:00, 121.44it/s, Loss=0.231, Accuracy=0.922]\n",
      "Training - epoch 19: 100%|██████████| 100/100 [00:01<00:00, 52.66it/s, Loss=0.208, Accuracy=0.928]\n",
      "Validation - epoch 19: 100%|██████████| 25/25 [00:00<00:00, 76.12it/s, Loss=0.232, Accuracy=0.926] \n"
     ]
    },
    {
     "name": "stdout",
     "output_type": "stream",
     "text": [
      "Fold 1 of 5\n"
     ]
    },
    {
     "name": "stderr",
     "output_type": "stream",
     "text": [
      "Training - epoch 0: 100%|██████████| 100/100 [00:01<00:00, 59.58it/s, Loss=1.23, Accuracy=0.648]\n",
      "Validation - epoch 0: 100%|██████████| 25/25 [00:00<00:00, 121.59it/s, Loss=0.696, Accuracy=0.78] \n",
      "Training - epoch 1: 100%|██████████| 100/100 [00:01<00:00, 55.21it/s, Loss=0.491, Accuracy=0.851]\n",
      "Validation - epoch 1: 100%|██████████| 25/25 [00:00<00:00, 122.75it/s, Loss=0.484, Accuracy=0.844]\n",
      "Training - epoch 2: 100%|██████████| 100/100 [00:01<00:00, 58.15it/s, Loss=0.383, Accuracy=0.877]\n",
      "Validation - epoch 2: 100%|██████████| 25/25 [00:00<00:00, 119.03it/s, Loss=0.375, Accuracy=0.878]\n",
      "Training - epoch 3: 100%|██████████| 100/100 [00:01<00:00, 54.87it/s, Loss=0.353, Accuracy=0.887]\n",
      "Validation - epoch 3: 100%|██████████| 25/25 [00:00<00:00, 117.06it/s, Loss=0.404, Accuracy=0.861]\n",
      "Training - epoch 4: 100%|██████████| 100/100 [00:01<00:00, 53.98it/s, Loss=0.32, Accuracy=0.896]\n",
      "Validation - epoch 4: 100%|██████████| 25/25 [00:00<00:00, 119.77it/s, Loss=0.341, Accuracy=0.886]\n",
      "Training - epoch 5: 100%|██████████| 100/100 [00:01<00:00, 56.27it/s, Loss=0.291, Accuracy=0.904]\n",
      "Validation - epoch 5: 100%|██████████| 25/25 [00:00<00:00, 114.96it/s, Loss=0.345, Accuracy=0.883]\n",
      "Training - epoch 6: 100%|██████████| 100/100 [00:01<00:00, 51.51it/s, Loss=0.284, Accuracy=0.905]\n",
      "Validation - epoch 6: 100%|██████████| 25/25 [00:00<00:00, 111.30it/s, Loss=0.315, Accuracy=0.896]\n",
      "Training - epoch 7: 100%|██████████| 100/100 [00:01<00:00, 52.48it/s, Loss=0.261, Accuracy=0.915]\n",
      "Validation - epoch 7: 100%|██████████| 25/25 [00:00<00:00, 120.93it/s, Loss=0.291, Accuracy=0.901]\n",
      "Training - epoch 8: 100%|██████████| 100/100 [00:01<00:00, 57.57it/s, Loss=0.262, Accuracy=0.912]\n",
      "Validation - epoch 8: 100%|██████████| 25/25 [00:00<00:00, 75.57it/s, Loss=0.287, Accuracy=0.903]\n",
      "Training - epoch 9: 100%|██████████| 100/100 [00:01<00:00, 56.57it/s, Loss=0.248, Accuracy=0.916]\n",
      "Validation - epoch 9: 100%|██████████| 25/25 [00:00<00:00, 115.03it/s, Loss=0.361, Accuracy=0.88] \n",
      "Training - epoch 10: 100%|██████████| 100/100 [00:01<00:00, 52.56it/s, Loss=0.24, Accuracy=0.918]\n",
      "Validation - epoch 10: 100%|██████████| 25/25 [00:00<00:00, 114.86it/s, Loss=0.322, Accuracy=0.89] \n",
      "Training - epoch 11: 100%|██████████| 100/100 [00:01<00:00, 53.70it/s, Loss=0.226, Accuracy=0.924]\n",
      "Validation - epoch 11: 100%|██████████| 25/25 [00:00<00:00, 113.68it/s, Loss=0.264, Accuracy=0.912]\n",
      "Training - epoch 12: 100%|██████████| 100/100 [00:01<00:00, 56.28it/s, Loss=0.217, Accuracy=0.927]\n",
      "Validation - epoch 12: 100%|██████████| 25/25 [00:00<00:00, 75.73it/s, Loss=0.307, Accuracy=0.894]\n",
      "Training - epoch 13: 100%|██████████| 100/100 [00:01<00:00, 56.64it/s, Loss=0.218, Accuracy=0.927]\n",
      "Validation - epoch 13: 100%|██████████| 25/25 [00:00<00:00, 115.09it/s, Loss=0.318, Accuracy=0.889]\n",
      "Training - epoch 14: 100%|██████████| 100/100 [00:01<00:00, 52.98it/s, Loss=0.214, Accuracy=0.927]\n",
      "Validation - epoch 14: 100%|██████████| 25/25 [00:00<00:00, 116.21it/s, Loss=0.271, Accuracy=0.904]\n",
      "Training - epoch 15: 100%|██████████| 100/100 [00:01<00:00, 52.02it/s, Loss=0.226, Accuracy=0.924]\n",
      "Validation - epoch 15: 100%|██████████| 25/25 [00:00<00:00, 109.87it/s, Loss=0.278, Accuracy=0.906]\n",
      "Training - epoch 16: 100%|██████████| 100/100 [00:01<00:00, 51.80it/s, Loss=0.214, Accuracy=0.927]\n",
      "Validation - epoch 16: 100%|██████████| 25/25 [00:00<00:00, 116.69it/s, Loss=0.269, Accuracy=0.908]\n",
      "Training - epoch 17: 100%|██████████| 100/100 [00:01<00:00, 55.72it/s, Loss=0.2, Accuracy=0.931] \n",
      "Validation - epoch 17: 100%|██████████| 25/25 [00:00<00:00, 72.67it/s, Loss=0.293, Accuracy=0.902]\n",
      "Training - epoch 18: 100%|██████████| 100/100 [00:01<00:00, 55.70it/s, Loss=0.202, Accuracy=0.931]\n",
      "Validation - epoch 18: 100%|██████████| 25/25 [00:00<00:00, 119.37it/s, Loss=0.267, Accuracy=0.904]\n",
      "Training - epoch 19: 100%|██████████| 100/100 [00:01<00:00, 52.92it/s, Loss=0.226, Accuracy=0.922]\n",
      "Validation - epoch 19: 100%|██████████| 25/25 [00:00<00:00, 116.34it/s, Loss=0.32, Accuracy=0.894] \n"
     ]
    },
    {
     "name": "stdout",
     "output_type": "stream",
     "text": [
      "Fold 2 of 5\n"
     ]
    },
    {
     "name": "stderr",
     "output_type": "stream",
     "text": [
      "Training - epoch 0: 100%|██████████| 100/100 [00:01<00:00, 55.42it/s, Loss=1.09, Accuracy=0.696]\n",
      "Validation - epoch 0: 100%|██████████| 25/25 [00:00<00:00, 130.15it/s, Loss=0.509, Accuracy=0.836]\n",
      "Training - epoch 1: 100%|██████████| 100/100 [00:01<00:00, 54.28it/s, Loss=0.497, Accuracy=0.844]\n",
      "Validation - epoch 1: 100%|██████████| 25/25 [00:00<00:00, 127.74it/s, Loss=0.351, Accuracy=0.893]\n",
      "Training - epoch 2: 100%|██████████| 100/100 [00:01<00:00, 57.15it/s, Loss=0.395, Accuracy=0.871]\n",
      "Validation - epoch 2: 100%|██████████| 25/25 [00:00<00:00, 125.80it/s, Loss=0.269, Accuracy=0.915]\n",
      "Training - epoch 3: 100%|██████████| 100/100 [00:01<00:00, 51.73it/s, Loss=0.341, Accuracy=0.891]\n",
      "Validation - epoch 3: 100%|██████████| 25/25 [00:00<00:00, 104.11it/s, Loss=0.27, Accuracy=0.909] \n",
      "Training - epoch 4: 100%|██████████| 100/100 [00:01<00:00, 52.36it/s, Loss=0.335, Accuracy=0.89]\n",
      "Validation - epoch 4: 100%|██████████| 25/25 [00:00<00:00, 63.44it/s, Loss=0.251, Accuracy=0.917] \n",
      "Training - epoch 5: 100%|██████████| 100/100 [00:01<00:00, 53.52it/s, Loss=0.298, Accuracy=0.901]\n",
      "Validation - epoch 5: 100%|██████████| 25/25 [00:00<00:00, 112.63it/s, Loss=0.236, Accuracy=0.924]\n",
      "Training - epoch 6: 100%|██████████| 100/100 [00:01<00:00, 51.99it/s, Loss=0.278, Accuracy=0.908]\n",
      "Validation - epoch 6: 100%|██████████| 25/25 [00:00<00:00, 120.21it/s, Loss=0.244, Accuracy=0.919]\n",
      "Training - epoch 7: 100%|██████████| 100/100 [00:01<00:00, 52.55it/s, Loss=0.283, Accuracy=0.905]\n",
      "Validation - epoch 7: 100%|██████████| 25/25 [00:00<00:00, 120.31it/s, Loss=0.23, Accuracy=0.923] \n",
      "Training - epoch 8: 100%|██████████| 100/100 [00:01<00:00, 54.71it/s, Loss=0.257, Accuracy=0.914]\n",
      "Validation - epoch 8: 100%|██████████| 25/25 [00:00<00:00, 117.14it/s, Loss=0.238, Accuracy=0.921]\n",
      "Training - epoch 9: 100%|██████████| 100/100 [00:01<00:00, 51.44it/s, Loss=0.248, Accuracy=0.915]\n",
      "Validation - epoch 9: 100%|██████████| 25/25 [00:00<00:00, 120.68it/s, Loss=0.222, Accuracy=0.928]\n",
      "Training - epoch 10: 100%|██████████| 100/100 [00:01<00:00, 51.31it/s, Loss=0.241, Accuracy=0.918]\n",
      "Validation - epoch 10: 100%|██████████| 25/25 [00:00<00:00, 119.45it/s, Loss=0.213, Accuracy=0.929]\n",
      "Training - epoch 11: 100%|██████████| 100/100 [00:02<00:00, 48.67it/s, Loss=0.244, Accuracy=0.918]\n",
      "Validation - epoch 11: 100%|██████████| 25/25 [00:00<00:00, 75.70it/s, Loss=0.264, Accuracy=0.912] \n",
      "Training - epoch 12: 100%|██████████| 100/100 [00:01<00:00, 51.96it/s, Loss=0.237, Accuracy=0.921]\n",
      "Validation - epoch 12: 100%|██████████| 25/25 [00:00<00:00, 104.64it/s, Loss=0.202, Accuracy=0.93] \n",
      "Training - epoch 13: 100%|██████████| 100/100 [00:01<00:00, 51.43it/s, Loss=0.222, Accuracy=0.924]\n",
      "Validation - epoch 13: 100%|██████████| 25/25 [00:00<00:00, 103.84it/s, Loss=0.194, Accuracy=0.936]\n",
      "Training - epoch 14: 100%|██████████| 100/100 [00:01<00:00, 52.29it/s, Loss=0.23, Accuracy=0.921]\n",
      "Validation - epoch 14: 100%|██████████| 25/25 [00:00<00:00, 104.26it/s, Loss=0.226, Accuracy=0.923]\n",
      "Training - epoch 15: 100%|██████████| 100/100 [00:01<00:00, 51.13it/s, Loss=0.285, Accuracy=0.904]\n",
      "Validation - epoch 15: 100%|██████████| 25/25 [00:00<00:00, 110.95it/s, Loss=0.2, Accuracy=0.933]  \n",
      "Training - epoch 16: 100%|██████████| 100/100 [00:01<00:00, 50.84it/s, Loss=0.224, Accuracy=0.924]\n",
      "Validation - epoch 16: 100%|██████████| 25/25 [00:00<00:00, 115.85it/s, Loss=0.213, Accuracy=0.929]\n",
      "Training - epoch 17: 100%|██████████| 100/100 [00:02<00:00, 46.89it/s, Loss=0.213, Accuracy=0.927]\n",
      "Validation - epoch 17: 100%|██████████| 25/25 [00:00<00:00, 115.40it/s, Loss=0.196, Accuracy=0.934]\n",
      "Training - epoch 18: 100%|██████████| 100/100 [00:01<00:00, 53.11it/s, Loss=0.207, Accuracy=0.929]\n",
      "Validation - epoch 18: 100%|██████████| 25/25 [00:00<00:00, 67.80it/s, Loss=0.186, Accuracy=0.935]\n",
      "Training - epoch 19: 100%|██████████| 100/100 [00:01<00:00, 52.53it/s, Loss=0.208, Accuracy=0.928]\n",
      "Validation - epoch 19: 100%|██████████| 25/25 [00:00<00:00, 113.84it/s, Loss=0.186, Accuracy=0.935]\n"
     ]
    },
    {
     "name": "stdout",
     "output_type": "stream",
     "text": [
      "Fold 3 of 5\n"
     ]
    },
    {
     "name": "stderr",
     "output_type": "stream",
     "text": [
      "Training - epoch 0: 100%|██████████| 100/100 [00:01<00:00, 53.78it/s, Loss=1.18, Accuracy=0.67]\n",
      "Validation - epoch 0: 100%|██████████| 25/25 [00:00<00:00, 119.38it/s, Loss=0.899, Accuracy=0.695]\n",
      "Training - epoch 1: 100%|██████████| 100/100 [00:01<00:00, 53.77it/s, Loss=0.517, Accuracy=0.84]\n",
      "Validation - epoch 1: 100%|██████████| 25/25 [00:00<00:00, 124.76it/s, Loss=0.562, Accuracy=0.828]\n",
      "Training - epoch 2: 100%|██████████| 100/100 [00:01<00:00, 56.73it/s, Loss=0.358, Accuracy=0.886]\n",
      "Validation - epoch 2: 100%|██████████| 25/25 [00:00<00:00, 122.96it/s, Loss=0.445, Accuracy=0.858]\n",
      "Training - epoch 3: 100%|██████████| 100/100 [00:02<00:00, 49.40it/s, Loss=0.313, Accuracy=0.9] \n",
      "Validation - epoch 3: 100%|██████████| 25/25 [00:00<00:00, 121.05it/s, Loss=0.414, Accuracy=0.866]\n",
      "Training - epoch 4: 100%|██████████| 100/100 [00:01<00:00, 53.05it/s, Loss=0.293, Accuracy=0.906]\n",
      "Validation - epoch 4: 100%|██████████| 25/25 [00:00<00:00, 121.55it/s, Loss=0.404, Accuracy=0.862]\n",
      "Training - epoch 5: 100%|██████████| 100/100 [00:01<00:00, 52.70it/s, Loss=0.257, Accuracy=0.914]\n",
      "Validation - epoch 5: 100%|██████████| 25/25 [00:00<00:00, 97.77it/s, Loss=0.378, Accuracy=0.873]\n",
      "Training - epoch 6: 100%|██████████| 100/100 [00:01<00:00, 50.31it/s, Loss=0.247, Accuracy=0.918]\n",
      "Validation - epoch 6: 100%|██████████| 25/25 [00:00<00:00, 123.00it/s, Loss=0.389, Accuracy=0.87] \n",
      "Training - epoch 7: 100%|██████████| 100/100 [00:01<00:00, 51.56it/s, Loss=0.263, Accuracy=0.911]\n",
      "Validation - epoch 7: 100%|██████████| 25/25 [00:00<00:00, 122.50it/s, Loss=0.376, Accuracy=0.874]\n",
      "Training - epoch 8: 100%|██████████| 100/100 [00:01<00:00, 56.10it/s, Loss=0.238, Accuracy=0.92]\n",
      "Validation - epoch 8: 100%|██████████| 25/25 [00:00<00:00, 74.70it/s, Loss=0.39, Accuracy=0.863] \n",
      "Training - epoch 9: 100%|██████████| 100/100 [00:01<00:00, 55.15it/s, Loss=0.249, Accuracy=0.919]\n",
      "Validation - epoch 9: 100%|██████████| 25/25 [00:00<00:00, 115.48it/s, Loss=0.324, Accuracy=0.893]\n",
      "Training - epoch 10: 100%|██████████| 100/100 [00:01<00:00, 52.98it/s, Loss=0.226, Accuracy=0.923]\n",
      "Validation - epoch 10: 100%|██████████| 25/25 [00:00<00:00, 103.20it/s, Loss=0.36, Accuracy=0.877] \n",
      "Training - epoch 11: 100%|██████████| 100/100 [00:01<00:00, 51.86it/s, Loss=0.208, Accuracy=0.93]\n",
      "Validation - epoch 11: 100%|██████████| 25/25 [00:00<00:00, 120.36it/s, Loss=0.338, Accuracy=0.884]\n",
      "Training - epoch 12: 100%|██████████| 100/100 [00:02<00:00, 46.33it/s, Loss=0.21, Accuracy=0.929]\n",
      "Validation - epoch 12: 100%|██████████| 25/25 [00:00<00:00, 89.34it/s, Loss=0.322, Accuracy=0.89] \n",
      "Training - epoch 13: 100%|██████████| 100/100 [00:02<00:00, 43.22it/s, Loss=0.204, Accuracy=0.93]\n",
      "Validation - epoch 13: 100%|██████████| 25/25 [00:00<00:00, 63.18it/s, Loss=0.336, Accuracy=0.887]\n",
      "Training - epoch 14: 100%|██████████| 100/100 [00:02<00:00, 43.83it/s, Loss=0.201, Accuracy=0.932]\n",
      "Validation - epoch 14: 100%|██████████| 25/25 [00:00<00:00, 71.42it/s, Loss=0.321, Accuracy=0.89] \n",
      "Training - epoch 15: 100%|██████████| 100/100 [00:02<00:00, 37.07it/s, Loss=0.202, Accuracy=0.93]\n",
      "Validation - epoch 15: 100%|██████████| 25/25 [00:00<00:00, 97.79it/s, Loss=0.366, Accuracy=0.876] \n",
      "Training - epoch 16: 100%|██████████| 100/100 [00:02<00:00, 34.79it/s, Loss=0.205, Accuracy=0.93]\n",
      "Validation - epoch 16: 100%|██████████| 25/25 [00:00<00:00, 63.47it/s, Loss=0.332, Accuracy=0.888]\n",
      "Training - epoch 17: 100%|██████████| 100/100 [00:02<00:00, 37.54it/s, Loss=0.199, Accuracy=0.932]\n",
      "Validation - epoch 17: 100%|██████████| 25/25 [00:00<00:00, 84.31it/s, Loss=0.452, Accuracy=0.859]\n",
      "Training - epoch 18: 100%|██████████| 100/100 [00:02<00:00, 39.20it/s, Loss=0.218, Accuracy=0.925]\n",
      "Validation - epoch 18: 100%|██████████| 25/25 [00:00<00:00, 84.78it/s, Loss=0.343, Accuracy=0.88] \n",
      "Training - epoch 19: 100%|██████████| 100/100 [00:02<00:00, 39.05it/s, Loss=0.184, Accuracy=0.937]\n",
      "Validation - epoch 19: 100%|██████████| 25/25 [00:00<00:00, 84.57it/s, Loss=0.331, Accuracy=0.885]\n"
     ]
    },
    {
     "name": "stdout",
     "output_type": "stream",
     "text": [
      "Fold 4 of 5\n"
     ]
    },
    {
     "name": "stderr",
     "output_type": "stream",
     "text": [
      "Training - epoch 0: 100%|██████████| 100/100 [00:02<00:00, 34.53it/s, Loss=1.16, Accuracy=0.671]\n",
      "Validation - epoch 0: 100%|██████████| 25/25 [00:00<00:00, 94.92it/s, Loss=0.666, Accuracy=0.794]\n",
      "Training - epoch 1: 100%|██████████| 100/100 [00:02<00:00, 42.56it/s, Loss=0.493, Accuracy=0.846]\n",
      "Validation - epoch 1: 100%|██████████| 25/25 [00:00<00:00, 89.73it/s, Loss=0.641, Accuracy=0.811]\n",
      "Training - epoch 2: 100%|██████████| 100/100 [00:02<00:00, 40.55it/s, Loss=0.367, Accuracy=0.885]\n",
      "Validation - epoch 2: 100%|██████████| 25/25 [00:00<00:00, 80.92it/s, Loss=0.378, Accuracy=0.871]\n",
      "Training - epoch 3: 100%|██████████| 100/100 [00:02<00:00, 40.06it/s, Loss=0.332, Accuracy=0.893]\n",
      "Validation - epoch 3: 100%|██████████| 25/25 [00:00<00:00, 74.76it/s, Loss=0.361, Accuracy=0.884]\n",
      "Training - epoch 4: 100%|██████████| 100/100 [00:02<00:00, 39.02it/s, Loss=0.3, Accuracy=0.901] \n",
      "Validation - epoch 4: 100%|██████████| 25/25 [00:00<00:00, 57.93it/s, Loss=0.352, Accuracy=0.885]\n",
      "Training - epoch 5: 100%|██████████| 100/100 [00:02<00:00, 41.81it/s, Loss=0.293, Accuracy=0.901]\n",
      "Validation - epoch 5: 100%|██████████| 25/25 [00:00<00:00, 81.48it/s, Loss=0.326, Accuracy=0.894] \n",
      "Training - epoch 6: 100%|██████████| 100/100 [00:02<00:00, 37.21it/s, Loss=0.266, Accuracy=0.911]\n",
      "Validation - epoch 6: 100%|██████████| 25/25 [00:00<00:00, 88.29it/s, Loss=0.371, Accuracy=0.873] \n",
      "Training - epoch 7: 100%|██████████| 100/100 [00:02<00:00, 42.40it/s, Loss=0.247, Accuracy=0.917]\n",
      "Validation - epoch 7: 100%|██████████| 25/25 [00:00<00:00, 58.18it/s, Loss=0.291, Accuracy=0.906]\n",
      "Training - epoch 8: 100%|██████████| 100/100 [00:02<00:00, 37.06it/s, Loss=0.239, Accuracy=0.919]\n",
      "Validation - epoch 8: 100%|██████████| 25/25 [00:00<00:00, 100.27it/s, Loss=0.294, Accuracy=0.9]  \n",
      "Training - epoch 9: 100%|██████████| 100/100 [00:02<00:00, 39.09it/s, Loss=0.255, Accuracy=0.914]\n",
      "Validation - epoch 9: 100%|██████████| 25/25 [00:00<00:00, 97.16it/s, Loss=0.305, Accuracy=0.901] \n",
      "Training - epoch 10: 100%|██████████| 100/100 [00:02<00:00, 38.01it/s, Loss=0.261, Accuracy=0.913]\n",
      "Validation - epoch 10: 100%|██████████| 25/25 [00:00<00:00, 90.41it/s, Loss=0.301, Accuracy=0.902] \n",
      "Training - epoch 11: 100%|██████████| 100/100 [00:02<00:00, 37.99it/s, Loss=0.223, Accuracy=0.924]\n",
      "Validation - epoch 11: 100%|██████████| 25/25 [00:00<00:00, 82.56it/s, Loss=0.263, Accuracy=0.915]\n",
      "Training - epoch 12: 100%|██████████| 100/100 [00:02<00:00, 39.57it/s, Loss=0.214, Accuracy=0.927]\n",
      "Validation - epoch 12: 100%|██████████| 25/25 [00:00<00:00, 53.13it/s, Loss=0.275, Accuracy=0.907]\n",
      "Training - epoch 13: 100%|██████████| 100/100 [00:02<00:00, 36.56it/s, Loss=0.215, Accuracy=0.926]\n",
      "Validation - epoch 13: 100%|██████████| 25/25 [00:00<00:00, 96.21it/s, Loss=0.311, Accuracy=0.895] \n",
      "Training - epoch 14: 100%|██████████| 100/100 [00:02<00:00, 36.32it/s, Loss=0.216, Accuracy=0.926]\n",
      "Validation - epoch 14: 100%|██████████| 25/25 [00:00<00:00, 90.74it/s, Loss=0.269, Accuracy=0.91] \n",
      "Training - epoch 15: 100%|██████████| 100/100 [00:02<00:00, 39.34it/s, Loss=0.208, Accuracy=0.929]\n",
      "Validation - epoch 15: 100%|██████████| 25/25 [00:00<00:00, 82.58it/s, Loss=0.247, Accuracy=0.919]\n",
      "Training - epoch 16: 100%|██████████| 100/100 [00:02<00:00, 33.59it/s, Loss=0.209, Accuracy=0.928]\n",
      "Validation - epoch 16: 100%|██████████| 25/25 [00:00<00:00, 85.11it/s, Loss=0.244, Accuracy=0.919]\n",
      "Training - epoch 17: 100%|██████████| 100/100 [00:02<00:00, 35.29it/s, Loss=0.2, Accuracy=0.932] \n",
      "Validation - epoch 17: 100%|██████████| 25/25 [00:00<00:00, 62.94it/s, Loss=0.284, Accuracy=0.908]\n",
      "Training - epoch 18: 100%|██████████| 100/100 [00:02<00:00, 37.18it/s, Loss=0.223, Accuracy=0.923]\n",
      "Validation - epoch 18: 100%|██████████| 25/25 [00:00<00:00, 83.49it/s, Loss=0.279, Accuracy=0.906]\n",
      "Training - epoch 19: 100%|██████████| 100/100 [00:02<00:00, 40.77it/s, Loss=0.209, Accuracy=0.928]\n",
      "Validation - epoch 19: 100%|██████████| 25/25 [00:00<00:00, 50.52it/s, Loss=0.256, Accuracy=0.918]\n"
     ]
    }
   ],
   "source": [
    "valid_accs = np.zeros(n_folds)\n",
    "for k in range(n_folds):\n",
    "    print(f\"Fold {k} of {n_folds}\")\n",
    "    train_dataloader = stellar_data.StellarDataloader(\n",
    "        filename=GRAPH_DATASET_FILENAME,\n",
    "        batch_size=batch_size,\n",
    "        shuffle=True,\n",
    "        graphs_idx=sample_idx_permutations[k][\"train\"],\n",
    "        test=False\n",
    "    )\n",
    "    valid_dataloader = stellar_data.StellarDataloader(\n",
    "        filename=GRAPH_DATASET_FILENAME,\n",
    "        batch_size=batch_size,\n",
    "        shuffle=False,\n",
    "        graphs_idx=sample_idx_permutations[k][\"valid\"],\n",
    "        test=False\n",
    "    )\n",
    "\n",
    "    vanilla_stellar_reduced = vanilla_stellar.VanillaStellarReduced(cfg_reduced)\n",
    "    valid_acc = vanilla_stellar_reduced.train(\n",
    "        train_loader=train_dataloader,\n",
    "        valid_loader=valid_dataloader,\n",
    "        epochs=n_epochs,\n",
    "        return_valid_acc=True)\n",
    "    valid_accs[k] = valid_acc"
   ]
  },
  {
   "cell_type": "code",
   "execution_count": 10,
   "metadata": {},
   "outputs": [
    {
     "name": "stdout",
     "output_type": "stream",
     "text": [
      "Mean validation accuracy: 0.9114213490486144 +/- 0.019208156609532963\n"
     ]
    }
   ],
   "source": [
    "print(f\"Mean validation accuracy: {valid_accs.mean()} +/- {valid_accs.std()}\")"
   ]
  }
 ],
 "metadata": {
  "kernelspec": {
   "display_name": "dlls-pro-venv",
   "language": "python",
   "name": "python3"
  },
  "language_info": {
   "codemirror_mode": {
    "name": "ipython",
    "version": 3
   },
   "file_extension": ".py",
   "mimetype": "text/x-python",
   "name": "python",
   "nbconvert_exporter": "python",
   "pygments_lexer": "ipython3",
   "version": "3.11.9"
  }
 },
 "nbformat": 4,
 "nbformat_minor": 2
}
